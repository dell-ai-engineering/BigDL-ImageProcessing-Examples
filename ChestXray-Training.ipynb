{
 "cells": [
  {
   "cell_type": "markdown",
   "metadata": {},
   "source": [
    "# Notebook to diagnose thoracic pathology from chest X-rays"
   ]
  },
  {
   "cell_type": "markdown",
   "metadata": {},
   "source": [
    "The purpose of this Jupyter notebook is to demonstrate how we can build a AI-based Radiologist system using Apache Spark and Analytics Zoo to detect pneumonia and other diseases from chest x-ray images. The X-rays are made available by the United States’ National Institutes of Health (NIH). The dataset contains over 120,000 images of frontal chest x-rays, each potentially labeled with one or more of fourteen different thoracic pathologies. We show how to build a multi-label image classification model in a distributed Apache Spark infrastructure, and demonstrate how to build complex image transformations and deep learning pipelines using Analytics Zoo with scalability and ease of use.\n",
    "\n",
    "For instructions on prerequisites for this notebook, refer to the GitHub readme."
   ]
  },
  {
   "cell_type": "markdown",
   "metadata": {},
   "source": [
    "## Import the required packages\n",
    "The following modules are for this notebook."
   ]
  },
  {
   "cell_type": "code",
   "execution_count": 2,
   "metadata": {},
   "outputs": [],
   "source": [
    "import warnings\n",
    "# Ignoring the warnings to improve readability of the notebook\n",
    "warnings.filterwarnings(\"ignore\")\n",
    "\n",
    "import random\n",
    "import time\n",
    "import numpy as np\n",
    "from math import ceil\n",
    "from bigdl.optim.optimizer import SGD, SequentialSchedule, Warmup, Poly,\\\n",
    "    Plateau, EveryEpoch, TrainSummary,\\\n",
    "    ValidationSummary, SeveralIteration, Step, L2Regularizer\n",
    "from pyspark.ml.evaluation import BinaryClassificationEvaluator\n",
    "from pyspark.sql import SparkSession, SQLContext\n",
    "from pyspark.sql.functions import col, udf\n",
    "from pyspark.sql.types import DoubleType\n",
    "from pyspark.storagelevel import StorageLevel\n",
    "from zoo.common.nncontext import *\n",
    "from zoo.feature.image.imagePreprocessing import *\n",
    "from zoo.feature.common import ChainedPreprocessing\n",
    "from zoo.pipeline.api.keras.layers import Input, Flatten, Dense, GlobalAveragePooling2D, Dropout\n",
    "from zoo.pipeline.api.keras.metrics import AUC\n",
    "from zoo.pipeline.api.keras.optimizers import Adam\n",
    "from zoo.pipeline.api.keras.models import Model\n",
    "from zoo.pipeline.api.net import Net\n",
    "from zoo.pipeline.nnframes import NNEstimator\n",
    "from zoo.pipeline.api.keras.objectives import BinaryCrossEntropy"
   ]
  },
  {
   "cell_type": "markdown",
   "metadata": {},
   "source": [
    "## Transfer learning and loading pre-trained models\n",
    "We use transfer learning for training the model. In the following cell, we show how to load a pre-trained Inception, ResNet-50, VGG, and a DenseNet model. These models are pre-trained with ImageNet dataset and are available at [Todo:] Only one of the models is used in the actual training. You can switch between the different models below by calling the appropritate function to  see how they perform.\n",
    "\n",
    "*get_resent_model* function below is used to load an __ResNet-50__ Model. The function accepts two parameters:\n",
    "- *model_path* - This is the path in your HDFS where the model pretrained model is located\n",
    "- *label_length* - This is the number of labels for a given task. For this exercise, the Xrays can have 14 diseases. *label-length* is always 14.\n",
    "\n",
    "The function does the following:\n",
    "-  *Net.load_bigdl()* - loads a BigDL model. _Net_ package can be used to load models from other frameworks like Caffe, Torch and TensorFlow. This returns a _Model_.\n",
    "- *new_graph()* removes layers after \"pool5\"\n",
    "- *Input()* creates a new layer for the Xray images. The images are resized to 224x224 and have three channels\n",
    "- The input layer is added to the model using *to_keras*\n",
    "- We then flatten the neural network, add dropout and apply regularization\n",
    "\n",
    "    "
   ]
  },
  {
   "cell_type": "code",
   "execution_count": 1,
   "metadata": {},
   "outputs": [],
   "source": [
    "# Function to load a ResNet50 model\n",
    "def get_resnet_model(model_path, label_length):\n",
    "    full_model = Net.load_bigdl(model_path)\n",
    "    model = full_model.new_graph([\"pool5\"])\n",
    "    inputNode = Input(name=\"input\", shape=(3, 224, 224))\n",
    "    resnet = model.to_keras()(inputNode)\n",
    "    flatten = GlobalAveragePooling2D(dim_ordering='th')(resnet)\n",
    "    dropout = Dropout(0.2)(flatten)\n",
    "    logits = Dense(label_length, W_regularizer=L2Regularizer(1e-1), b_regularizer=L2Regularizer(1e-1), activation=\"sigmoid\")(dropout)\n",
    "    lrModel = Model(inputNode, logits)\n",
    "    return lrModel\n",
    "\n",
    "# Function to load an Inception model\n",
    "def get_inception_model(model_path, label_length):\n",
    "    full_model = Net.load_bigdl(model_path)\n",
    "    model = full_model.new_graph([\"pool5/drop_7x7_s1\"])\n",
    "    inputNode = Input(name=\"input\", shape=(3, 224, 224))\n",
    "    inception = model.to_keras()(inputNode)\n",
    "    flatten = GlobalAveragePooling2D(dim_ordering='th')(inception)\n",
    "    dropout = Dropout(0.25)(flatten)\n",
    "    logits = Dense(label_length, W_regularizer=L2Regularizer(1e-1), b_regularizer=L2Regularizer(1e-1),\\\n",
    "                   activation=\"sigmoid\")(dropout)\n",
    "    lrModel = Model(inputNode, logits)\n",
    "    return lrModel\n",
    "\n",
    "\n",
    "# Function to load a VGG model\n",
    "def get_vgg_model(model_path, label_length):\n",
    "    full_model = Net.load_bigdl(model_path)\n",
    "    model = full_model.new_graph([\"pool5\"])\n",
    "    inputNode = Input(name=\"input\", shape=(3, 224, 224))\n",
    "    vgg_16 = model.to_keras()(inputNode)\n",
    "    flatten = GlobalAveragePooling2D(dim_ordering='th')(vgg_16)\n",
    "    dropout = Dropout(0.25)(flatten)\n",
    "    logits = Dense(label_length, W_regularizer=L2Regularizer(1e-1), b_regularizer=L2Regularizer(1e-1), activation=\"sigmoid\")(dropout)\n",
    "    lrModel = Model(inputNode, logits)\n",
    "    return lrModel\n",
    "\n",
    "# Function to load a DenseNet model\n",
    "def get_densenet_model(model_path, label_length):\n",
    "    full_model = Net.load_bigdl(model_path)\n",
    "    model = full_model.new_graph([\"pool5\"])\n",
    "    inputNode = Input(name=\"input\", shape=(3, 224, 224))\n",
    "    densenet = model.to_keras()(inputNode)\n",
    "    flatten = GlobalAveragePooling2D(dim_ordering='th')(densenet)\n",
    "    dropout = Dropout(0.25)(flatten)\n",
    "    logits = Dense(label_length, W_regularizer=L2Regularizer(1e-1), b_regularizer=L2Regularizer(1e-1), activation=\"sigmoid\")(dropout)\n",
    "    lrModel = Model(inputNode, logits)\n",
    "    return lrModel"
   ]
  },
  {
   "cell_type": "markdown",
   "metadata": {},
   "source": [
    "## Learning Rate Scheduler for SGD and Adam optimizer \n",
    "\n",
    "We tried two optimizers: SGD and Adam. We used use learning rate schduler with both. Here is an exaplanation of some key parameters used:\n",
    "- *SequentialSchedule* - *SequentialSchedule* is used to combine multiple learning rate scheduler. In this exercise, we combine two learning rate scheduler. First we increase the learning rate scheduler using *Warmup*, then we use *Plateau* to gradually reduce the learning rate. For more information, refer to this [link](https://github.com/intel-analytics/BigDL/blob/6ab9f3d65ed1f9c005b003bf587ab22988a21ef9/docs/docs/APIGuide/Optimizers/Learningrate-Scheduler.md).\n",
    "-  *num_epoch* - Number of Epochs you want to train the model\n",
    "- *batchSize* - BatchSize used in training. This must be a multiple of number of Spark executors * number of cores in each executor\n",
    "- *trainingCount* - Total records in the training dataset\n",
    "- *warmupEpoch* - Specifies the number of warm up Epochs. The learning rate will increase during the warm up epochs\n",
    "- *initlr* - is the initial learning rate\n",
    "- *maxlr* - is the maximum learning rate\n",
    "- *Warmup* scheduler increases the learning rate by *Warmupdelta* for *warmup_iteration*\n",
    "- *Plateau* scheduer decreases the learning rate for *cooldownIteration*\n",
    "  "
   ]
  },
  {
   "cell_type": "code",
   "execution_count": 21,
   "metadata": {},
   "outputs": [],
   "source": [
    "def get_sgd_optimMethod(num_epoch, trainingCount, batchSize):\n",
    "    iterationPerEpoch = int(ceil(float(trainingCount) / batchSize))\n",
    "    warmupEpoch = 10\n",
    "    warmup_iteration = warmupEpoch * iterationPerEpoch\n",
    "    initlr = 1e-6\n",
    "    maxlr = 0.001\n",
    "    warmupDelta = (maxlr - initlr) / warmup_iteration\n",
    "    cooldownIteration = (num_epoch - warmupEpoch) * iterationPerEpoch\n",
    "\n",
    "    lrSchedule = SequentialSchedule(iterationPerEpoch)\n",
    "    lrSchedule.add(Warmup(warmupDelta), warmup_iteration)\n",
    "    lrSchedule.add(Plateau(\"Loss\", factor=0.1, patience=1, mode=\"min\", epsilon=0.01, cooldown=0, min_lr=1e-15 ), \n",
    "                   cooldownIteration)\n",
    "    optim = SGD(learningrate=initlr, momentum=0.9, dampening=0.0, nesterov=True,\n",
    "                leaningrate_schedule=lrSchedule)\n",
    "    return optim\n",
    "\n",
    "def get_adam_optimMethod(num_epoch, trainingCount, batchSize):\n",
    "    iterationPerEpoch = int(ceil(float(trainingCount) / batchSize))\n",
    "    warmupEpoch = 5\n",
    "    warmup_iteration = warmupEpoch * iterationPerEpoch\n",
    "    initlr = 1e-7\n",
    "    maxlr = 0.0001\n",
    "    warmupDelta = (maxlr - initlr) / warmup_iteration\n",
    "    cooldownIteration = (num_epoch - warmupEpoch) * iterationPerEpoch\n",
    "\n",
    "    lrSchedule = SequentialSchedule(iterationPerEpoch)\n",
    "    lrSchedule.add(Warmup(warmupDelta), warmup_iteration)\n",
    "    lrSchedule.add(Plateau(\"Loss\", factor=0.1, patience=1, mode=\"min\", epsilon=0.01, cooldown=0, min_lr=1e-15 ),\n",
    "                   cooldownIteration)\n",
    "    optim = Adam(lr=initlr, schedule=lrSchedule)\n",
    "    return optim"
   ]
  },
  {
   "cell_type": "markdown",
   "metadata": {},
   "source": [
    "## Calculate the AUC-ROC for a disease\n",
    "\n",
    "The following function calculates the ROC for disease *k*. We use ML Pipeline *BinaryClassificationEvaluator* for this."
   ]
  },
  {
   "cell_type": "code",
   "execution_count": 8,
   "metadata": {},
   "outputs": [],
   "source": [
    "def get_auc_for_kth_class(k, df, label_col=\"label\", prediction_col=\"prediction\"):\n",
    "    get_Kth = udf(lambda a: a[k], DoubleType())\n",
    "    extracted_df = df.withColumn(\"kth_label\", get_Kth(col(label_col))) \\\n",
    "        .withColumn(\"kth_prediction\", get_Kth(col(prediction_col))) \\\n",
    "        .select('kth_label', 'kth_prediction')\n",
    "    roc_score = BinaryClassificationEvaluator(rawPredictionCol='kth_prediction',\n",
    "                                              labelCol='kth_label', metricName=\"areaUnderROC\").evaluate(extracted_df)\n",
    "    return roc_score"
   ]
  },
  {
   "cell_type": "markdown",
   "metadata": {},
   "source": [
    "## Plot AUC\n",
    "This function is used to evaluate and printout auc for all 14 classes \n"
   ]
  },
  {
   "cell_type": "code",
   "execution_count": null,
   "metadata": {},
   "outputs": [],
   "source": [
    "%matplotlib notebook\n",
    "%pylab inline\n",
    "def plotingAuc(roc_auc_label):\n",
    "    lists=[]\n",
    "    lists = sorted(roc_auc_label.items()) \n",
    "    label_texts = [\"Atelectasis\", \"Cardiomegaly\", \"Effusion\", \"Infiltration\", \"Mass\", \"Nodule\", \"Pneumonia\",\n",
    "                   \"Pneumothorax\", \"Consolidation\",\"Edema\", \"Emphysema\", \"Fibrosis\", \"Pleural_Thickening\", \"Hernia\"]\n",
    "    x, y =zip(*lists)\n",
    "    label_map = {k: v for v, k in enumerate(label_texts)}\n",
    "    rng = np.random.RandomState(0)\n",
    "    fig, ax = plt.subplots(figsize=(10, 5))\n",
    "    sizes = 500 * rng.rand(100)\n",
    "    colors = ['#005249','#2300A8', '#00A658', '#00A6B8','#00A6BC', '#00AA58','#1805db', '#154406', '#631950','#000000','#850e04','#84b701','#adf802','#042e60']\n",
    "    plt.ylabel(\"AUC\")\n",
    "    plt.xlabel(\"Classes\")\n",
    "    plt.title(\"AUC for all 14 classes\")\n",
    "    plt.scatter(x, y,  alpha=0.50, color=colors,s=sizes,   cmap='viridis',  marker = '*')\n",
    "    plt.grid(color='grey', linestyle='-', linewidth=0.5, alpha=0.5)\n",
    "    ax.set_xticklabels(x, rotation=45 )\n",
    "    return plt"
   ]
  },
  {
   "cell_type": "markdown",
   "metadata": {},
   "source": [
    "## Evaluating the model and plot AUC "
   ]
  },
  {
   "cell_type": "code",
   "execution_count": 10,
   "metadata": {},
   "outputs": [],
   "source": [
    "def evaluate_and_plot(testDF):\n",
    "    predictionDF = nnModel.transform(testDF).persist(storageLevel=StorageLevel.DISK_ONLY)\n",
    "    label_texts= [\"Atelectasis\", \"Cardiomegaly\", \"Effusion\", \"Infiltration\", \"Mass\", \"Nodule\", \"Pneumonia\",\n",
    "                   \"Pneumothorax\", \"Consolidation\", \"Edema\", \"Emphysema\", \"Fibrosis\", \"Pleural_Thickening\", \"Hernia\"]\n",
    "    label_map = {k: v for v, k in enumerate(label_texts)}\n",
    "    chexnet_order = [\"Atelectasis\", \"Cardiomegaly\", \"Effusion\", \"Infiltration\", \"Mass\", \"Nodule\", \"Pneumonia\", \"Pneumothorax\", \"Consolidation\",\n",
    "     \"Edema\", \"Emphysema\", \"Fibrosis\", \"Pleural_Thickening\", \"Hernia\"]\n",
    "    total_auc = 0.0\n",
    "    roc_auc_label =dict()\n",
    "    for i in chexnet_order:\n",
    "        roc_score = get_auc_for_kth_class(label_map[i], predictionDF)\n",
    "        total_auc += roc_score\n",
    "        print('{:>12} {:>25} {:>5} {:<20}'.format('ROC score for ', i, ' is: ', roc_score))\n",
    "        roc_auc_label[i]=(roc_score)\n",
    "    print(\"Average AUC: \", total_auc / float(label_length))\n",
    "    plt = plotingAuc(roc_auc_label)\n",
    "    plt.show()\n",
    "    # Todo: Removed the below print statement? \n",
    "    # print label_map"
   ]
  },
  {
   "cell_type": "markdown",
   "metadata": {},
   "source": [
    "## Main program\n"
   ]
  },
  {
   "cell_type": "code",
   "execution_count": 6,
   "metadata": {},
   "outputs": [],
   "source": [
    "random.seed(1234)\n",
    "batch_size = 1024 \n",
    "num_epoch = 15\n",
    "# Path for the pre-trained model file, data and the location to save the model after training. The model path must match the function you are calling (ResNet-50, VGG or DenseNet)\n",
    "# Example:\n",
    "#    model_path = \"hdfs:///user/xray/analytics-zoo_resnet-50_imagenet_0.1.0.model\"\n",
    "#    data_path = \"hdfs:///user/xray/train_test_splitDF\"\n",
    "#    save_path = \"hdfs:///user/xray/save_model\"\n",
    "model_path =\"hdfs:///path_to_your_saved_pre-trained model\" \n",
    "data_path = \"hdfs:///path_to_your_saved_imageDF\"\n",
    "save_path = \"hdfs:///path_to_save_model\" \n",
    "\n",
    "# Number of diseases\n",
    "label_length = 14\n",
    "\n",
    "# Get Spark Context\n",
    "sparkConf = create_spark_conf().setAppName(\"Chest X-ray Training\")\n",
    "sc = init_nncontext(sparkConf)\n",
    "spark = SparkSession.builder.config(conf=sparkConf).getOrCreate()\n",
    "\n",
    "# Make sure the batchsize is a multiple of (Number of executors * Number of cores)\n",
    "numexecutors = len(sc._jsc.sc().statusTracker().getExecutorInfos()) - 1\n",
    "numcores = int(sc.getConf().get('spark.executor.cores','1'))\n",
    "\n",
    "print \"Number of Executors = \" +str(numexecutors)\n",
    "print \"Number of Cores = \" + str(numcores)\n",
    "print \"Batch Size = \" + str(batch_size)\n",
    "if batch_size%(numexecutors*numcores):\n",
    "    print(\"Batchsize is a multiple of NumberofExecutors*Number of cores. Good to proceed\")\n",
    "else:\n",
    "    print(\"Batchsize is NOT a multiple of (Number of Executors * Number of cores). Do not proceed !\")"
   ]
  },
  {
   "cell_type": "markdown",
   "metadata": {},
   "source": [
    "## Load the data\n",
    "We then load the dataset. NIH has __[released](https://www.nih.gov/news-events/news-releases/nih-clinical-center-provides-one-largest-publicly-available-chest-x-ray-datasets-scientific-community)__ the chest xray has two sets (training and test). We have created a [notebook](ConvertXray-ConvertImages.ipynb) to read the Xray images from NIH an save them as training and test datasets (in two folders /trainingDF and /testDF). In the below code, we read these dataframes and combine them to a single Spark dataframe. We then sploy them to the actual training and validation Dataframes for our model. We use *ramdomSplit* to split the data.\n",
    "\n"
   ]
  },
  {
   "cell_type": "code",
   "execution_count": null,
   "metadata": {},
   "outputs": [],
   "source": [
    "train_df = spark.read.load(data_path + '/trainingDF')\n",
    "test_df = spark.read.load(data_path + '/testDF')\n",
    "totalDF = train_df.union(test_df)\n",
    "\n",
    "(trainingDF, validationDF) = totalDF.randomSplit([0.7, 0.3])\n",
    "print(\"Number of training images: \", trainingDF.count())\n",
    "print(\"Number of validation images: \", validationDF.count())"
   ]
  },
  {
   "cell_type": "markdown",
   "metadata": {},
   "source": [
    "## Load the pre-trained model and optimiser\n",
    "We first load the pre-trained model. We use ResNet in the below example. It can be changed to any of the above defined models. We then load the optimiser"
   ]
  },
  {
   "cell_type": "code",
   "execution_count": null,
   "metadata": {},
   "outputs": [],
   "source": [
    "# Load the pretrained model\n",
    "xray_model = get_resnet_model(model_path, label_length)\n",
    "# Define the Optimiser\n",
    "optim_method = get_adam_optimMethod(num_epoch, trainingDF.count(), batch_size)"
   ]
  },
  {
   "cell_type": "markdown",
   "metadata": {},
   "source": [
    "## Image pre-processing\n",
    "\n",
    "We build *ChainedPreprocessing* to combine the following preprocessing.\n",
    "- *RowToImageFeature* - converts a Spark row to a BigDL ImageFeature\n",
    "- *ImageCenterCrop* - resizes the image to 224 x 224\n",
    "- *ImageHFlip* - Randomly flips 50% of the image horizontally\n",
    "- *ImageBrightness* - Randomly adjust the brigthness of 50% of the images\n",
    "- *ImageChannelNormalize* - Normalize the images by subtracting the mean value of the ImageNet images"
   ]
  },
  {
   "cell_type": "code",
   "execution_count": 20,
   "metadata": {},
   "outputs": [
    {
     "name": "stdout",
     "output_type": "stream",
     "text": [
      "creating: createRowToImageFeature\n",
      "creating: createImageCenterCrop\n",
      "creating: createImageHFlip\n",
      "creating: createImageRandomPreprocessing\n",
      "creating: createImageBrightness\n",
      "creating: createImageRandomPreprocessing\n",
      "creating: createImageChannelNormalize\n",
      "creating: createImageMatToTensor\n",
      "creating: createImageFeatureToTensor\n",
      "creating: createChainedPreprocessing\n"
     ]
    }
   ],
   "source": [
    "transformer = ChainedPreprocessing(\n",
    "            [RowToImageFeature(), ImageCenterCrop(224, 224), ImageRandomPreprocessing(ImageHFlip(), 0.5),\n",
    "             ImageRandomPreprocessing(ImageBrightness(0.0, 32.0), 0.5),\n",
    "             ImageChannelNormalize(123.68, 116.779, 103.939), ImageMatToTensor(), ImageFeatureToTensor()])"
   ]
  },
  {
   "cell_type": "markdown",
   "metadata": {},
   "source": [
    "### Save training and validation summary \n",
    "\n",
    "(Todo: Document this section)"
   ]
  },
  {
   "cell_type": "code",
   "execution_count": 21,
   "metadata": {},
   "outputs": [
    {
     "name": "stdout",
     "output_type": "stream",
     "text": [
      "creating: createTrainSummary\n",
      "creating: createValidationSummary\n",
      "creating: createSeveralIteration\n",
      "creating: createSeveralIteration\n"
     ]
    },
    {
     "data": {
      "text/plain": [
       "JavaObject id=o501"
      ]
     },
     "execution_count": 21,
     "metadata": {},
     "output_type": "execute_result"
    }
   ],
   "source": [
    "train_summary = TrainSummary(log_dir=\"/path_to_your_logDirectory\", app_name=\"Chest X-ray Training\")\n",
    "val_summary = ValidationSummary(log_dir=\"/path_to_your_logDirectory\", app_name=\"Chest X-ray Training\")\n",
    "train_summary.set_summary_trigger(\"LearningRate\", SeveralIteration(50))\n",
    "train_summary.set_summary_trigger(\"Loss\", SeveralIteration(50))"
   ]
  },
  {
   "cell_type": "markdown",
   "metadata": {},
   "source": [
    "### Set the classifier with all the necessary parameters such as loss function, batchsize, num of epochs and so on"
   ]
  },
  {
   "cell_type": "code",
   "execution_count": 23,
   "metadata": {},
   "outputs": [
    {
     "name": "stdout",
     "output_type": "stream",
     "text": [
      "creating: createZooKerasBinaryCrossEntropy\n",
      "creating: createSeqToTensor\n",
      "creating: createFeatureLabelPreprocessing\n",
      "creating: createNNEstimator\n",
      "creating: createEveryEpoch\n",
      "creating: createAUC\n"
     ]
    }
   ],
   "source": [
    "classifier = NNEstimator(xray_model, BinaryCrossEntropy(), transformer) \\\n",
    "            .setBatchSize(batch_size) \\\n",
    "            .setMaxEpoch(num_epoch) \\\n",
    "            .setFeaturesCol(\"image\") \\\n",
    "            .setCachingSample(False) \\\n",
    "            .setValidation(EveryEpoch(), validationDF, [AUC()], batch_size) \\\n",
    "            .setTrainSummary(train_summary) \\\n",
    "            .setValidationSummary(val_summary) \\\n",
    "            .setOptimMethod(optim_method)"
   ]
  },
  {
   "cell_type": "markdown",
   "metadata": {},
   "source": [
    "### Train the model"
   ]
  },
  {
   "cell_type": "code",
   "execution_count": 24,
   "metadata": {},
   "outputs": [
    {
     "name": "stdout",
     "output_type": "stream",
     "text": [
      "creating: createToTuple\n",
      "creating: createChainedPreprocessing\n",
      "('Finished training, took: ', 21087.46742081642)\n"
     ]
    }
   ],
   "source": [
    "start = time.time()\n",
    "nnModel = classifier.fit(trainingDF)\n",
    "print(\"Finished training. Time taken: \", (time.time() - start)/60, \"mins\")"
   ]
  },
  {
   "cell_type": "markdown",
   "metadata": {},
   "source": [
    "### Evaluate the model and plot AUC accuracy for Training Data\n",
    "This is done to get an idea of how our model is performing. Results from training data evaluation will not be published."
   ]
  },
  {
   "cell_type": "code",
   "execution_count": 25,
   "metadata": {
    "scrolled": false
   },
   "outputs": [
    {
     "name": "stdout",
     "output_type": "stream",
     "text": [
      "evaluating on training data: \n",
      "roc score for                Atelectasis  is:  0.822318513097      \n",
      "roc score for               Cardiomegaly  is:  0.908873911376      \n",
      "roc score for                   Effusion  is:  0.883230580296      \n",
      "roc score for               Infiltration  is:  0.716474950438      \n",
      "roc score for                       Mass  is:  0.84327357477       \n",
      "roc score for                     Nodule  is:  0.781149133425      \n",
      "roc score for                  Pneumonia  is:  0.763532229854      \n",
      "roc score for               Pneumothorax  is:  0.897633437884      \n",
      "roc score for              Consolidation  is:  0.80703291163       \n",
      "roc score for                      Edema  is:  0.901970226143      \n",
      "roc score for                  Emphysema  is:  0.906196925853      \n",
      "roc score for                   Fibrosis  is:  0.7991236446        \n",
      "roc score for         Pleural_Thickening  is:  0.796678334889      \n",
      "roc score for                     Hernia  is:  0.789612890398      \n",
      "('Finished evaluation, average auc: ', 0.8297929474752664)\n",
      " Plotting Area Under Curve for 14 classes \n"
     ]
    },
    {
     "data": {
      "image/png": "[encoded data removed]",
      "text/plain": [
       "<Figure size 720x360 with 1 Axes>"
      ]
     },
     "metadata": {
      "needs_background": "light"
     },
     "output_type": "display_data"
    },
    {
     "name": "stdout",
     "output_type": "stream",
     "text": [
      "{'Effusion': 2, 'Pneumothorax': 7, 'Edema': 9, 'Cardiomegaly': 1, 'Pleural_Thickening': 12, 'Atelectasis': 0, 'Consolidation': 8, 'Emphysema': 10, 'Pneumonia': 6, 'Nodule': 5, 'Mass': 4, 'Infiltration': 3, 'Hernia': 13, 'Fibrosis': 11}\n"
     ]
    }
   ],
   "source": [
    "print(\"Evaluating the model on training data:\")\n",
    "evaluate_and_plot(trainingDF)\n",
    "print(\"Plotting Area Under Curve for 14 classes\")\n",
    "\n",
    "SQLContext(sc).clearCache()"
   ]
  },
  {
   "cell_type": "markdown",
   "metadata": {},
   "source": [
    "### Evaluate the model and plot AUC accuracy for Validation Data"
   ]
  },
  {
   "cell_type": "code",
   "execution_count": 26,
   "metadata": {},
   "outputs": [
    {
     "name": "stdout",
     "output_type": "stream",
     "text": [
      "\n",
      "evaluating on validation data: \n",
      "roc score for                Atelectasis  is:  0.789614683078      \n",
      "roc score for               Cardiomegaly  is:  0.873129705242      \n",
      "roc score for                   Effusion  is:  0.86535223927       \n",
      "roc score for               Infiltration  is:  0.689784217336      \n",
      "roc score for                       Mass  is:  0.807491318964      \n",
      "roc score for                     Nodule  is:  0.729128038656      \n",
      "roc score for                  Pneumonia  is:  0.731538559827      \n",
      "roc score for               Pneumothorax  is:  0.870473697194      \n",
      "roc score for              Consolidation  is:  0.794522984466      \n",
      "roc score for                      Edema  is:  0.88673157811       \n",
      "roc score for                  Emphysema  is:  0.887188623658      \n",
      "roc score for                   Fibrosis  is:  0.76269875379       \n",
      "roc score for         Pleural_Thickening  is:  0.768316659619      \n",
      "roc score for                     Hernia  is:  0.759881110551      \n",
      "('Finished evaluation, average auc: ', 0.8011322978400193)\n",
      " Plotting Area Under Curve for 14 classes \n"
     ]
    },
    {
     "data": {
      "image/png": "[encoded data removed]",
      "text/plain": [
       "<Figure size 720x360 with 1 Axes>"
      ]
     },
     "metadata": {
      "needs_background": "light"
     },
     "output_type": "display_data"
    },
    {
     "name": "stdout",
     "output_type": "stream",
     "text": [
      "{'Effusion': 2, 'Pneumothorax': 7, 'Edema': 9, 'Cardiomegaly': 1, 'Pleural_Thickening': 12, 'Atelectasis': 0, 'Consolidation': 8, 'Emphysema': 10, 'Pneumonia': 6, 'Nodule': 5, 'Mass': 4, 'Infiltration': 3, 'Hernia': 13, 'Fibrosis': 11}\n"
     ]
    }
   ],
   "source": [
    "print(\"Evaluating the model on validation data:\")\n",
    "evaluate_and_plot(validationDF)\n",
    "print(\"Plotting Area Under Curve for 14 classes\")"
   ]
  },
  {
   "cell_type": "markdown",
   "metadata": {},
   "source": [
    "## Using Tensorboard "
   ]
  },
  {
   "cell_type": "markdown",
   "metadata": {},
   "source": [
    "We can also use Tensorboard to visualize the model during training in the form of graphs for Learning Rate, Loss Function, Throughput and so on.\n",
    "Please use the below command to run the tensorboard for detailed visualization."
   ]
  },
  {
   "cell_type": "markdown",
   "metadata": {},
   "source": [
    "The port number --port 8081 and 8082 from the below command can be modified according to the ports available on your network."
   ]
  },
  {
   "cell_type": "code",
   "execution_count": null,
   "metadata": {},
   "outputs": [],
   "source": [
    "!tensorboard --logdir = /path_to_your_logDirectory/train --port 8081\n",
    "!tensorboard --logdir = /path_to_your_logDirectory/validation --port 8082"
   ]
  }
 ],
 "metadata": {
  "kernelspec": {
   "display_name": "Python 2",
   "language": "python",
   "name": "python2"
  },
  "language_info": {
   "codemirror_mode": {
    "name": "ipython",
    "version": 2
   },
   "file_extension": ".py",
   "mimetype": "text/x-python",
   "name": "python",
   "nbconvert_exporter": "python",
   "pygments_lexer": "ipython2",
   "version": "2.7.5"
  }
 },
 "nbformat": 4,
 "nbformat_minor": 2
}
