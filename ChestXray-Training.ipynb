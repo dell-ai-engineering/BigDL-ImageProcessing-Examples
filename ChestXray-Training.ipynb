{
 "cells": [
  {
   "cell_type": "markdown",
   "metadata": {},
   "source": [
    "# Notebook to train a model to diagnose thoracic pathology from chest X-rays"
   ]
  },
  {
   "cell_type": "markdown",
   "metadata": {},
   "source": [
    "The purpose of this Jupyter notebook is to demonstrate how we can build a AI-based Radiologist system using Apache Spark and Analytics Zoo to detect pneumonia and other diseases from chest x-ray images. The X-rays are made available by the United States’ National Institutes of Health (NIH). The dataset contains over 120,000 images of frontal chest x-rays, each potentially labeled with one or more of fourteen different thoracic pathologies. We show how to build a multi-label image classification model in a distributed Apache Spark infrastructure, and demonstrate how to build complex image transformations and deep learning pipelines using Analytics Zoo with scalability and ease of use.\n",
    "\n",
    "For instructions on prerequisites for this notebook, refer to the GitHub readme."
   ]
  },
  {
   "cell_type": "markdown",
   "metadata": {},
   "source": [
    "## Import the required packages\n",
    "The following modules are for this notebook."
   ]
  },
  {
   "cell_type": "code",
   "execution_count": 17,
   "metadata": {},
   "outputs": [],
   "source": [
    "import warnings\n",
    "# Ignoring the warnings to improve readability of the notebook\n",
    "warnings.filterwarnings(\"ignore\", message=\"numpy.dtype size changed\")\n",
    "\n",
    "import random\n",
    "import time\n",
    "import numpy as np\n",
    "from math import ceil\n",
    "from bigdl.optim.optimizer import SGD, SequentialSchedule, Warmup, Poly,\\\n",
    "    Plateau, EveryEpoch, TrainSummary,\\\n",
    "    ValidationSummary, SeveralIteration, Step, L2Regularizer\n",
    "from pyspark.ml.evaluation import BinaryClassificationEvaluator\n",
    "from pyspark.sql import SparkSession, SQLContext\n",
    "from pyspark.sql.functions import col, udf\n",
    "from pyspark.sql.types import DoubleType\n",
    "from pyspark.storagelevel import StorageLevel\n",
    "from zoo.common.nncontext import *\n",
    "from zoo.feature.image.imagePreprocessing import *\n",
    "from zoo.feature.common import ChainedPreprocessing\n",
    "from zoo.pipeline.api.keras.layers import Input, Flatten, Dense, GlobalAveragePooling2D, Dropout\n",
    "from zoo.pipeline.api.keras.metrics import AUC\n",
    "from zoo.pipeline.api.keras.optimizers import Adam\n",
    "from zoo.pipeline.api.keras.models import Model\n",
    "from zoo.pipeline.api.net import Net\n",
    "from zoo.pipeline.nnframes import NNEstimator, NNImageReader\n",
    "from zoo.pipeline.api.keras.objectives import BinaryCrossEntropy\n",
    "from pyspark.sql.types import StringType, ArrayType\n",
    "import matplotlib.pyplot as plt"
   ]
  },
  {
   "cell_type": "markdown",
   "metadata": {},
   "source": [
    "## Transfer learning and loading pre-trained models\n",
    "We use transfer learning for training the model. In the following cell, we show how to load a pre-trained Inception, ResNet-50, VGG, and a DenseNet model. These models are pre-trained with ImageNet dataset and are available [here](https://analytics-zoo.github.io/0.4.0/#ProgrammingGuide/image-classification/). Only one of the models is used in the actual training. You can switch between the different models below by calling the appropritate function to  see how they perform.\n",
    "\n",
    "*get_resent_model* function below is used to load an __ResNet-50__ Model. The function accepts two parameters:\n",
    "- *model_path* - This is the path in your HDFS where the model pretrained model is located\n",
    "- *label_length* - This is the number of labels for a given task. For this exercise, the Xrays can have 14 diseases. *label-length* is always 14.\n",
    "\n",
    "The function does the following:\n",
    "-  *Net.load_bigdl()* - loads a BigDL model. _Net_ package can be used to load models from other frameworks like Caffe, Torch and TensorFlow. This returns a _Model_.\n",
    "- *new_graph()* removes layers after \"pool5\"\n",
    "- *Input()* creates a new layer for the Xray images. The images are resized to 224x224 and have three channels\n",
    "- The input layer is added to the model using *to_keras*\n",
    "- We then flatten the neural network, add dropout and apply regularization\n",
    "\n",
    "    "
   ]
  },
  {
   "cell_type": "code",
   "execution_count": 2,
   "metadata": {},
   "outputs": [],
   "source": [
    "# Function to load a ResNet50 model\n",
    "def get_resnet_model(model_path, label_length):\n",
    "    full_model = Net.load_bigdl(model_path)\n",
    "    model = full_model.new_graph([\"pool5\"])\n",
    "    inputNode = Input(name=\"input\", shape=(3, 224, 224))\n",
    "    resnet = model.to_keras()(inputNode)\n",
    "    flatten = GlobalAveragePooling2D(dim_ordering='th')(resnet)\n",
    "    dropout = Dropout(0.2)(flatten)\n",
    "    logits = Dense(label_length, W_regularizer=L2Regularizer(1e-1), b_regularizer=L2Regularizer(1e-1), activation=\"sigmoid\")(dropout)\n",
    "    lrModel = Model(inputNode, logits)\n",
    "    return lrModel\n",
    "\n",
    "# Function to load an Inception model\n",
    "def get_inception_model(model_path, label_length):\n",
    "    full_model = Net.load_bigdl(model_path)\n",
    "    model = full_model.new_graph([\"pool5/drop_7x7_s1\"])\n",
    "    inputNode = Input(name=\"input\", shape=(3, 224, 224))\n",
    "    inception = model.to_keras()(inputNode)\n",
    "    flatten = GlobalAveragePooling2D(dim_ordering='th')(inception)\n",
    "    dropout = Dropout(0.25)(flatten)\n",
    "    logits = Dense(label_length, W_regularizer=L2Regularizer(1e-1), b_regularizer=L2Regularizer(1e-1),\\\n",
    "                   activation=\"sigmoid\")(dropout)\n",
    "    lrModel = Model(inputNode, logits)\n",
    "    return lrModel\n",
    "\n",
    "\n",
    "# Function to load a VGG model\n",
    "def get_vgg_model(model_path, label_length):\n",
    "    full_model = Net.load_bigdl(model_path)\n",
    "    model = full_model.new_graph([\"pool5\"])\n",
    "    inputNode = Input(name=\"input\", shape=(3, 224, 224))\n",
    "    vgg_16 = model.to_keras()(inputNode)\n",
    "    flatten = GlobalAveragePooling2D(dim_ordering='th')(vgg_16)\n",
    "    dropout = Dropout(0.25)(flatten)\n",
    "    logits = Dense(label_length, W_regularizer=L2Regularizer(1e-1), b_regularizer=L2Regularizer(1e-1), activation=\"sigmoid\")(dropout)\n",
    "    lrModel = Model(inputNode, logits)\n",
    "    return lrModel\n",
    "\n",
    "# Function to load a DenseNet model\n",
    "def get_densenet_model(model_path, label_length):\n",
    "    full_model = Net.load_bigdl(model_path)\n",
    "    model = full_model.new_graph([\"pool5\"])\n",
    "    inputNode = Input(name=\"input\", shape=(3, 224, 224))\n",
    "    densenet = model.to_keras()(inputNode)\n",
    "    flatten = GlobalAveragePooling2D(dim_ordering='th')(densenet)\n",
    "    dropout = Dropout(0.25)(flatten)\n",
    "    logits = Dense(label_length, W_regularizer=L2Regularizer(1e-1), b_regularizer=L2Regularizer(1e-1), activation=\"sigmoid\")(dropout)\n",
    "    lrModel = Model(inputNode, logits)\n",
    "    return lrModel"
   ]
  },
  {
   "cell_type": "markdown",
   "metadata": {},
   "source": [
    "## Learning Rate Scheduler for SGD and Adam optimizer \n",
    "\n",
    "We tried two optimizers: SGD and Adam. We used use learning rate schduler with both. Here is an exaplanation of some key parameters used:\n",
    "- *SequentialSchedule* - *SequentialSchedule* is used to combine multiple learning rate scheduler. In this exercise, we combine two learning rate scheduler. First we increase the learning rate scheduler using *Warmup*, then we use *Plateau* to gradually reduce the learning rate. For more information, refer to this [link](https://github.com/intel-analytics/BigDL/blob/6ab9f3d65ed1f9c005b003bf587ab22988a21ef9/docs/docs/APIGuide/Optimizers/Learningrate-Scheduler.md).\n",
    "-  *num_epoch* - Number of Epochs you want to train the model\n",
    "- *batchSize* - BatchSize used in training. This must be a multiple of number of Spark executors * number of cores in each executor\n",
    "- *trainingCount* - Total records in the training dataset\n",
    "- *warmupEpoch* - Specifies the number of warm up Epochs. The learning rate will increase during the warm up epochs\n",
    "- *initlr* - is the initial learning rate\n",
    "- *maxlr* - is the maximum learning rate\n",
    "- *Warmup* scheduler increases the learning rate by *Warmupdelta* for *warmup_iteration*\n",
    "- *Plateau* scheduer decreases the learning rate for *cooldownIteration*\n",
    "  "
   ]
  },
  {
   "cell_type": "code",
   "execution_count": 3,
   "metadata": {},
   "outputs": [],
   "source": [
    "def get_sgd_optimMethod(num_epoch, trainingCount, batchSize):\n",
    "    iterationPerEpoch = int(ceil(float(trainingCount) / batchSize))\n",
    "    warmupEpoch = 10\n",
    "    warmup_iteration = warmupEpoch * iterationPerEpoch\n",
    "    initlr = 1e-6\n",
    "    maxlr = 0.001\n",
    "    warmupDelta = (maxlr - initlr) / warmup_iteration\n",
    "    cooldownIteration = (num_epoch - warmupEpoch) * iterationPerEpoch\n",
    "\n",
    "    lrSchedule = SequentialSchedule(iterationPerEpoch)\n",
    "    lrSchedule.add(Warmup(warmupDelta), warmup_iteration)\n",
    "    lrSchedule.add(Plateau(\"Loss\", factor=0.1, patience=1, mode=\"min\", epsilon=0.01, cooldown=0, min_lr=1e-15 ), \n",
    "                   cooldownIteration)\n",
    "    optim = SGD(learningrate=initlr, momentum=0.9, dampening=0.0, nesterov=True,\n",
    "                leaningrate_schedule=lrSchedule)\n",
    "    return optim\n",
    "\n",
    "def get_adam_optimMethod(num_epoch, trainingCount, batchSize):\n",
    "    iterationPerEpoch = int(ceil(float(trainingCount) / batchSize))\n",
    "    warmupEpoch = 5\n",
    "    warmup_iteration = warmupEpoch * iterationPerEpoch\n",
    "    initlr = 1e-7\n",
    "    maxlr = 0.0001\n",
    "    warmupDelta = (maxlr - initlr) / warmup_iteration\n",
    "    cooldownIteration = (num_epoch - warmupEpoch) * iterationPerEpoch\n",
    "\n",
    "    lrSchedule = SequentialSchedule(iterationPerEpoch)\n",
    "    lrSchedule.add(Warmup(warmupDelta), warmup_iteration)\n",
    "    lrSchedule.add(Plateau(\"Loss\", factor=0.1, patience=1, mode=\"min\", epsilon=0.01, cooldown=0, min_lr=1e-15 ),\n",
    "                   cooldownIteration)\n",
    "    optim = Adam(lr=initlr, schedule=lrSchedule)\n",
    "    return optim"
   ]
  },
  {
   "cell_type": "markdown",
   "metadata": {},
   "source": [
    "## Calculate the AUC-ROC for a disease\n",
    "\n",
    "The following function calculates the ROC for disease *k*. We use ML Pipeline *BinaryClassificationEvaluator* for this."
   ]
  },
  {
   "cell_type": "code",
   "execution_count": 4,
   "metadata": {},
   "outputs": [],
   "source": [
    "def get_auc_for_kth_class(k, df, label_col=\"label\", prediction_col=\"prediction\"):\n",
    "    get_Kth = udf(lambda a: a[k], DoubleType())\n",
    "    extracted_df = df.withColumn(\"kth_label\", get_Kth(col(label_col))) \\\n",
    "        .withColumn(\"kth_prediction\", get_Kth(col(prediction_col))) \\\n",
    "        .select('kth_label', 'kth_prediction')\n",
    "    roc_score = BinaryClassificationEvaluator(rawPredictionCol='kth_prediction',\n",
    "                                              labelCol='kth_label', metricName=\"areaUnderROC\").evaluate(extracted_df)\n",
    "    return roc_score"
   ]
  },
  {
   "cell_type": "markdown",
   "metadata": {},
   "source": [
    "## Plot AUC\n",
    "This function is used to evaluate and printout auc for all 14 classes \n"
   ]
  },
  {
   "cell_type": "code",
   "execution_count": 5,
   "metadata": {},
   "outputs": [],
   "source": [
    "def plotingAuc(roc_auc_label):\n",
    "    lists=[]\n",
    "    lists = sorted(roc_auc_label.items()) \n",
    "    label_texts = [\"Atelectasis\", \"Cardiomegaly\", \"Effusion\", \"Infiltration\", \"Mass\", \"Nodule\", \"Pneumonia\",\n",
    "                   \"Pneumothorax\", \"Consolidation\",\"Edema\", \"Emphysema\", \"Fibrosis\", \"Pleural_Thickening\", \"Hernia\"]\n",
    "    x, y =zip(*lists)\n",
    "    label_map = {k: v for v, k in enumerate(label_texts)}\n",
    "    rng = np.random.RandomState(0)\n",
    "    fig, ax = plt.subplots(figsize=(10, 5))\n",
    "    sizes = 500 * rng.rand(100)\n",
    "    colors = ['#005249','#2300A8', '#00A658', '#00A6B8','#00A6BC', '#00AA58','#1805db', '#154406', '#631950','#000000','#850e04','#84b701','#adf802','#042e60']\n",
    "    plt.ylabel(\"AUC\")\n",
    "    plt.xlabel(\"Classes\")\n",
    "    plt.title(\"AUC for all 14 classes\")\n",
    "    plt.scatter(x, y,  alpha=0.50, color=colors,s=sizes,   cmap='viridis',  marker = '*')\n",
    "    plt.grid(color='grey', linestyle='-', linewidth=0.5, alpha=0.5)\n",
    "    ax.set_xticklabels(x, rotation=45 )\n",
    "    return plt"
   ]
  },
  {
   "cell_type": "markdown",
   "metadata": {},
   "source": [
    "## Evaluating the model and plot AUC "
   ]
  },
  {
   "cell_type": "code",
   "execution_count": 6,
   "metadata": {},
   "outputs": [],
   "source": [
    "def evaluate_and_plot(testDF):\n",
    "    predictionDF = nnModel.transform(testDF).persist(storageLevel=StorageLevel.DISK_ONLY)\n",
    "    label_texts= [\"Atelectasis\", \"Cardiomegaly\", \"Effusion\", \"Infiltration\", \"Mass\", \"Nodule\", \"Pneumonia\",\n",
    "                   \"Pneumothorax\", \"Consolidation\", \"Edema\", \"Emphysema\", \"Fibrosis\", \"Pleural_Thickening\", \"Hernia\"]\n",
    "    label_map = {k: v for v, k in enumerate(label_texts)}\n",
    "    chexnet_order = [\"Atelectasis\", \"Cardiomegaly\", \"Effusion\", \"Infiltration\", \"Mass\", \"Nodule\", \"Pneumonia\", \"Pneumothorax\", \"Consolidation\",\n",
    "     \"Edema\", \"Emphysema\", \"Fibrosis\", \"Pleural_Thickening\", \"Hernia\"]\n",
    "    total_auc = 0.0\n",
    "    roc_auc_label =dict()\n",
    "    for i in chexnet_order:\n",
    "        roc_score = get_auc_for_kth_class(label_map[i], predictionDF)\n",
    "        total_auc += roc_score\n",
    "        print('{:>12} {:>25} {:>5} {:<20}'.format('ROC score for ', i, ' is: ', roc_score))\n",
    "        roc_auc_label[i]=(roc_score)\n",
    "    print(\"Average AUC: \", total_auc / float(label_length))\n",
    "    plt = plotingAuc(roc_auc_label)\n",
    "    plt.show()"
   ]
  },
  {
   "cell_type": "markdown",
   "metadata": {},
   "source": [
    "## Main program\n"
   ]
  },
  {
   "cell_type": "code",
   "execution_count": 7,
   "metadata": {},
   "outputs": [
    {
     "name": "stdout",
     "output_type": "stream",
     "text": [
      "Number of Executors = 4\n",
      "Number of Cores = 32\n",
      "Batch Size = 1024\n",
      "Batchsize is a multiple of (Number of Executors * Number of cores. Good to proceed\n"
     ]
    }
   ],
   "source": [
    "random.seed(1234)\n",
    "batch_size = 1024 \n",
    "num_epoch = 15\n",
    "# \n",
    "#    model_path - Path for the pre-trained model file, data and the location to save the model after training. \n",
    "#                 The model path must match the function you are calling (ResNet-50, VGG or DenseNet)\n",
    "#    image_path - Path to all images\n",
    "#    label_path - Path to the label file (Data_Entry_2017.csv) available from NIH\n",
    "#    save_path = Path to save the model and intermediate results \n",
    "model_path =\"hdfs:///datasets/xray_files/xray/analytics-zoo_resnet-50_imagenet_0.1.0.model\" \n",
    "image_path = \"hdfs:///datasets/xray_files/xray/all_images\"\n",
    "label_path = \"hdfs:///datasets/xray_files\"\n",
    "save_path = \"hdfs:///datasets/xray_files/save\" \n",
    "\n",
    "# Get Spark Context\n",
    "sparkConf = create_spark_conf().setAppName(\"Chest X-ray Training\")\n",
    "sc = init_nncontext(sparkConf)\n",
    "spark = SparkSession.builder.config(conf=sparkConf).getOrCreate()\n",
    "\n",
    "# Make sure the batchsize is a multiple of (Number of executors * Number of cores)\n",
    "numexecutors = len(sc._jsc.sc().statusTracker().getExecutorInfos()) - 1\n",
    "numcores = int(sc.getConf().get('spark.executor.cores','1'))\n",
    "\n",
    "print \"Number of Executors = \" +str(numexecutors)\n",
    "print \"Number of Cores = \" + str(numcores)\n",
    "print \"Batch Size = \" + str(batch_size)\n",
    "if batch_size%(numexecutors*numcores)==0:\n",
    "    print(\"Batchsize is a multiple of (Number of Executors * Number of cores. Good to proceed\")\n",
    "else:\n",
    "    print(\"Batchsize is NOT a multiple of (Number of Executors * Number of cores). Do not proceed !\")"
   ]
  },
  {
   "cell_type": "markdown",
   "metadata": {},
   "source": [
    "## Load the data\n",
    "We then load the dataset. NIH has __[released](https://www.nih.gov/news-events/news-releases/nih-clinical-center-provides-one-largest-publicly-available-chest-x-ray-datasets-scientific-community)__ the chest xray has two sets (training and test). We have created a [notebook](ConvertXray-ConvertImages.ipynb) to read the Xray images from NIH an save them as training and test datasets (in two folders /trainingDF and /testDF). In the below code, we read these dataframes and combine them to a single Spark dataframe. We then sploy them to the actual training and validation Dataframes for our model. We use *ramdomSplit* to split the data.\n",
    "\n"
   ]
  },
  {
   "cell_type": "code",
   "execution_count": 8,
   "metadata": {},
   "outputs": [
    {
     "name": "stdout",
     "output_type": "stream",
     "text": [
      "('Number of training images: ', 78615)\n",
      "('Number of validation images: ', 33505)\n"
     ]
    }
   ],
   "source": [
    "label_length = 14\n",
    "label_texts = [\"Atelectasis\", \"Cardiomegaly\", \"Effusion\", \"Infiltration\", \"Mass\", \"Nodule\", \"Pneumonia\", \"Pneumothorax\",\n",
    "               \"Consolidation\", \"Edema\", \"Emphysema\", \"Fibrosis\", \"Pleural_Thickening\", \"Hernia\"]\n",
    "label_map = {k: v for v, k in enumerate(label_texts)}\n",
    "\n",
    "def text_to_label(text):\n",
    "    arr = [0.0] * len(label_texts)\n",
    "    for l in text.split(\"|\"):\n",
    "        if l != \"No Finding\":\n",
    "            arr[label_map[l]] = 1.0\n",
    "    return arr\n",
    "\n",
    "getLabel = udf(lambda x: text_to_label(x), ArrayType(DoubleType()))\n",
    "getName = udf(lambda row: os.path.basename(row[0]), StringType())\n",
    "imageDF = NNImageReader.readImages(image_path, sc, resizeH=256, resizeW=256, image_codec=1) \\\n",
    "    .withColumn(\"Image_Index\", getName(col('image')))\n",
    "\n",
    "labelDF = spark.read.load(label_path + \"/Data_Entry_2017.csv\", format=\"csv\", sep=\",\", inferSchema=\"true\", header=\"true\") \\\n",
    "        .select(\"Image Index\", \"Finding Labels\") \\\n",
    "        .withColumn(\"label\", getLabel(col('Finding Labels'))) \\\n",
    "        .withColumnRenamed('Image Index', 'Image_Index')\n",
    "\n",
    "totalDF = imageDF.join(labelDF, on=\"Image_Index\", how=\"inner\").withColumnRenamed(\"Finding Labels\", \"Finding_Labels\")\n",
    "\n",
    "(trainingDF, validationDF) = totalDF.randomSplit([0.7, 0.3])\n",
    "print(\"Number of training images: \", trainingDF.count())\n",
    "print(\"Number of validation images: \", validationDF.count())"
   ]
  },
  {
   "cell_type": "markdown",
   "metadata": {},
   "source": [
    "## Load the pre-trained model and optimiser\n",
    "We first load the pre-trained model. We use ResNet in the below example. It can be changed to any of the above defined models. We then load the optimiser"
   ]
  },
  {
   "cell_type": "code",
   "execution_count": 9,
   "metadata": {},
   "outputs": [
    {
     "name": "stdout",
     "output_type": "stream",
     "text": [
      "creating: createZooKerasInput\n",
      "creating: createZooKerasGlobalAveragePooling2D\n",
      "creating: createZooKerasDropout\n",
      "creating: createL2Regularizer\n",
      "creating: createL2Regularizer\n",
      "creating: createZooKerasDense\n",
      "creating: createZooKerasModel\n",
      "creating: createSequentialSchedule\n",
      "creating: createWarmup\n",
      "creating: createPlateau\n",
      "creating: createZooKerasAdam\n"
     ]
    }
   ],
   "source": [
    "# Load the pretrained model\n",
    "xray_model = get_resnet_model(model_path, label_length)\n",
    "# Define the Optimiser\n",
    "optim_method = get_adam_optimMethod(num_epoch, trainingDF.count(), batch_size)"
   ]
  },
  {
   "cell_type": "markdown",
   "metadata": {},
   "source": [
    "## Image pre-processing\n",
    "\n",
    "We build *ChainedPreprocessing* to combine the following preprocessing.\n",
    "- *RowToImageFeature* - converts a Spark row to a BigDL ImageFeature\n",
    "- *ImageCenterCrop* - resizes the image to 224 x 224\n",
    "- *ImageHFlip* - Randomly flips 50% of the image horizontally\n",
    "- *ImageBrightness* - Randomly adjust the brigthness of 50% of the images\n",
    "- *ImageChannelNormalize* - Normalize the images by subtracting the mean value of the ImageNet images"
   ]
  },
  {
   "cell_type": "code",
   "execution_count": 10,
   "metadata": {},
   "outputs": [
    {
     "name": "stdout",
     "output_type": "stream",
     "text": [
      "creating: createRowToImageFeature\n",
      "creating: createImageCenterCrop\n",
      "creating: createImageHFlip\n",
      "creating: createImageRandomPreprocessing\n",
      "creating: createImageBrightness\n",
      "creating: createImageRandomPreprocessing\n",
      "creating: createImageChannelNormalize\n",
      "creating: createImageMatToTensor\n",
      "creating: createImageFeatureToTensor\n",
      "creating: createChainedPreprocessing\n"
     ]
    }
   ],
   "source": [
    "transformer = ChainedPreprocessing(\n",
    "            [RowToImageFeature(), ImageCenterCrop(224, 224), ImageRandomPreprocessing(ImageHFlip(), 0.5),\n",
    "             ImageRandomPreprocessing(ImageBrightness(0.0, 32.0), 0.5),\n",
    "             ImageChannelNormalize(123.68, 116.779, 103.939), ImageMatToTensor(), ImageFeatureToTensor()])"
   ]
  },
  {
   "cell_type": "markdown",
   "metadata": {},
   "source": [
    "### Save training and validation summary \n",
    "\n",
    "Training and validation summary can be saved in the following directories"
   ]
  },
  {
   "cell_type": "code",
   "execution_count": 11,
   "metadata": {},
   "outputs": [
    {
     "name": "stdout",
     "output_type": "stream",
     "text": [
      "creating: createTrainSummary\n",
      "creating: createValidationSummary\n",
      "creating: createSeveralIteration\n",
      "creating: createSeveralIteration\n"
     ]
    },
    {
     "data": {
      "text/plain": [
       "JavaObject id=o462"
      ]
     },
     "execution_count": 11,
     "metadata": {},
     "output_type": "execute_result"
    }
   ],
   "source": [
    "train_summary = TrainSummary(log_dir=\"xray_save_summary\", app_name=\"Chest X-ray Training\")\n",
    "val_summary = ValidationSummary(log_dir=\"xray_save_summary\", app_name=\"Chest X-ray Training\")\n",
    "train_summary.set_summary_trigger(\"LearningRate\", SeveralIteration(50))\n",
    "train_summary.set_summary_trigger(\"Loss\", SeveralIteration(50))"
   ]
  },
  {
   "cell_type": "markdown",
   "metadata": {},
   "source": [
    "### Define the Classifier"
   ]
  },
  {
   "cell_type": "code",
   "execution_count": 12,
   "metadata": {},
   "outputs": [
    {
     "name": "stdout",
     "output_type": "stream",
     "text": [
      "creating: createZooKerasBinaryCrossEntropy\n",
      "creating: createSeqToTensor\n",
      "creating: createFeatureLabelPreprocessing\n",
      "creating: createNNEstimator\n",
      "creating: createEveryEpoch\n",
      "creating: createAUC\n"
     ]
    }
   ],
   "source": [
    "classifier = NNEstimator(xray_model, BinaryCrossEntropy(), transformer) \\\n",
    "            .setBatchSize(batch_size) \\\n",
    "            .setMaxEpoch(num_epoch) \\\n",
    "            .setFeaturesCol(\"image\") \\\n",
    "            .setCachingSample(False) \\\n",
    "            .setValidation(EveryEpoch(), validationDF, [AUC()], batch_size) \\\n",
    "            .setTrainSummary(train_summary) \\\n",
    "            .setValidationSummary(val_summary) \\\n",
    "            .setOptimMethod(optim_method)"
   ]
  },
  {
   "cell_type": "markdown",
   "metadata": {},
   "source": [
    "### Train the model"
   ]
  },
  {
   "cell_type": "code",
   "execution_count": 13,
   "metadata": {},
   "outputs": [
    {
     "name": "stdout",
     "output_type": "stream",
     "text": [
      "creating: createToTuple\n",
      "creating: createChainedPreprocessing\n",
      "CPU times: user 1.02 s, sys: 324 ms, total: 1.34 s\n",
      "Wall time: 4h 18min 42s\n"
     ]
    }
   ],
   "source": [
    "%%time\n",
    "nnModel = classifier.fit(trainingDF)"
   ]
  },
  {
   "cell_type": "markdown",
   "metadata": {},
   "source": [
    "### Evaluate the model and plot AUC accuracy for training Data\n",
    "This can be done to get an idea of how our model is performing. Results from training data evaluation will not be published."
   ]
  },
  {
   "cell_type": "code",
   "execution_count": 14,
   "metadata": {
    "scrolled": false
   },
   "outputs": [
    {
     "name": "stdout",
     "output_type": "stream",
     "text": [
      "Evaluating the model on training data:\n",
      "ROC score for                Atelectasis  is:  0.839447754325      \n",
      "ROC score for               Cardiomegaly  is:  0.933189372638      \n",
      "ROC score for                   Effusion  is:  0.904531511225      \n",
      "ROC score for               Infiltration  is:  0.743218766366      \n",
      "ROC score for                       Mass  is:  0.880717202753      \n",
      "ROC score for                     Nodule  is:  0.800499521475      \n",
      "ROC score for                  Pneumonia  is:  0.781081095129      \n",
      "ROC score for               Pneumothorax  is:  0.913827716244      \n",
      "ROC score for              Consolidation  is:  0.82365777975       \n",
      "ROC score for                      Edema  is:  0.91653700172       \n",
      "ROC score for                  Emphysema  is:  0.920766403585      \n",
      "ROC score for                   Fibrosis  is:  0.842863717345      \n",
      "ROC score for         Pleural_Thickening  is:  0.818484679669      \n",
      "ROC score for                     Hernia  is:  0.781668303975      \n",
      "('Average AUC: ', 0.8500350590142736)\n"
     ]
    },
    {
     "data": {
      "image/png": "[encoded data removed]",
      "text/plain": [
       "<Figure size 720x360 with 1 Axes>"
      ]
     },
     "metadata": {
      "needs_background": "light"
     },
     "output_type": "display_data"
    }
   ],
   "source": [
    "print(\"Evaluating the model on training data:\")\n",
    "evaluate_and_plot(trainingDF)\n",
    "\n",
    "SQLContext(sc).clearCache()"
   ]
  },
  {
   "cell_type": "markdown",
   "metadata": {},
   "source": [
    "### Evaluate the model and plot AUC accuracy for Validation Data"
   ]
  },
  {
   "cell_type": "code",
   "execution_count": 15,
   "metadata": {},
   "outputs": [
    {
     "name": "stdout",
     "output_type": "stream",
     "text": [
      "Evaluating the model on validation data:\n",
      "ROC score for                Atelectasis  is:  0.798047499918      \n",
      "ROC score for               Cardiomegaly  is:  0.892335320102      \n",
      "ROC score for                   Effusion  is:  0.873232913191      \n",
      "ROC score for               Infiltration  is:  0.703745426351      \n",
      "ROC score for                       Mass  is:  0.817617373733      \n",
      "ROC score for                     Nodule  is:  0.732289249247      \n",
      "ROC score for                  Pneumonia  is:  0.72084013157       \n",
      "ROC score for               Pneumothorax  is:  0.872177030029      \n",
      "ROC score for              Consolidation  is:  0.799862329631      \n",
      "ROC score for                      Edema  is:  0.882317917159      \n",
      "ROC score for                  Emphysema  is:  0.876294427404      \n",
      "ROC score for                   Fibrosis  is:  0.78241840828       \n",
      "ROC score for         Pleural_Thickening  is:  0.777476065972      \n",
      "ROC score for                     Hernia  is:  0.801740153188      \n",
      "('Average AUC: ', 0.8093138746982566)\n"
     ]
    },
    {
     "data": {
      "image/png": "[encoded data removed]",
      "text/plain": [
       "<Figure size 720x360 with 1 Axes>"
      ]
     },
     "metadata": {
      "needs_background": "light"
     },
     "output_type": "display_data"
    }
   ],
   "source": [
    "print(\"Evaluating the model on validation data:\")\n",
    "evaluate_and_plot(validationDF)"
   ]
  },
  {
   "cell_type": "markdown",
   "metadata": {},
   "source": [
    "### Save the model for inference"
   ]
  },
  {
   "cell_type": "code",
   "execution_count": 18,
   "metadata": {},
   "outputs": [
    {
     "name": "stdout",
     "output_type": "stream",
     "text": [
      "('Model saved at: ', 'hdfs:///datasets/xray_files/save/xray_model_2019_03_22_09_41_14')\n"
     ]
    }
   ],
   "source": [
    "model_path = save_path + '/xray_model_' + time.strftime('%Y_%m_%d_%H_%M_%S', time.localtime())\n",
    "nnModel.model.saveModel(model_path + \".bigdl\", model_path + \".bin\", True)\n",
    "print('Model saved at: ', model_path)"
   ]
  }
 ],
 "metadata": {
  "kernelspec": {
   "display_name": "Python 2",
   "language": "python",
   "name": "python2"
  },
  "language_info": {
   "codemirror_mode": {
    "name": "ipython",
    "version": 2
   },
   "file_extension": ".py",
   "mimetype": "text/x-python",
   "name": "python",
   "nbconvert_exporter": "python",
   "pygments_lexer": "ipython2",
   "version": "2.7.5"
  }
 },
 "nbformat": 4,
 "nbformat_minor": 2
}
