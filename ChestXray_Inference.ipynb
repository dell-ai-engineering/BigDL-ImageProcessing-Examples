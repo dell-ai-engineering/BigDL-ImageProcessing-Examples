{
 "cells": [
  {
   "cell_type": "markdown",
   "metadata": {},
   "source": [
    "## Single Image Inference using Chestxray Dataset"
   ]
  },
  {
   "cell_type": "markdown",
   "metadata": {},
   "source": [
    "Following are the modules that are necessarily required to run the code"
   ]
  },
  {
   "cell_type": "markdown",
   "metadata": {},
   "source": [
    "Tested with: BigDL-0.7.2, Analytics Zoo-0.4.0, Pyspark-2.1.0"
   ]
  },
  {
   "cell_type": "code",
   "execution_count": 1,
   "metadata": {
    "scrolled": true
   },
   "outputs": [
    {
     "name": "stderr",
     "output_type": "stream",
     "text": [
      "/usr/lib64/python2.7/site-packages/scipy/sparse/lil.py:16: RuntimeWarning: numpy.dtype size changed, may indicate binary incompatibility. Expected 96, got 88\n",
      "  from . import _csparsetools\n",
      "/usr/lib64/python2.7/site-packages/pandas/_libs/__init__.py:4: RuntimeWarning: numpy.dtype size changed, may indicate binary incompatibility. Expected 96, got 88\n",
      "  from .tslib import iNaT, NaT, Timestamp, Timedelta, OutOfBoundsDatetime\n",
      "/usr/lib64/python2.7/site-packages/pandas/__init__.py:26: RuntimeWarning: numpy.dtype size changed, may indicate binary incompatibility. Expected 96, got 88\n",
      "  from pandas._libs import (hashtable as _hashtable,\n",
      "/usr/lib64/python2.7/site-packages/pandas/core/dtypes/common.py:6: RuntimeWarning: numpy.dtype size changed, may indicate binary incompatibility. Expected 96, got 88\n",
      "  from pandas._libs import algos, lib\n",
      "/usr/lib64/python2.7/site-packages/pandas/core/util/hashing.py:7: RuntimeWarning: numpy.dtype size changed, may indicate binary incompatibility. Expected 96, got 88\n",
      "  from pandas._libs import hashing, tslib\n",
      "/usr/lib64/python2.7/site-packages/pandas/core/indexes/base.py:7: RuntimeWarning: numpy.dtype size changed, may indicate binary incompatibility. Expected 96, got 88\n",
      "  from pandas._libs import (lib, index as libindex, tslib as libts,\n",
      "/usr/lib64/python2.7/site-packages/pandas/tseries/offsets.py:21: RuntimeWarning: numpy.dtype size changed, may indicate binary incompatibility. Expected 96, got 88\n",
      "  import pandas._libs.tslibs.offsets as liboffsets\n",
      "/usr/lib64/python2.7/site-packages/pandas/core/ops.py:16: RuntimeWarning: numpy.dtype size changed, may indicate binary incompatibility. Expected 96, got 88\n",
      "  from pandas._libs import algos as libalgos, ops as libops\n",
      "/usr/lib64/python2.7/site-packages/pandas/core/indexes/interval.py:32: RuntimeWarning: numpy.dtype size changed, may indicate binary incompatibility. Expected 96, got 88\n",
      "  from pandas._libs.interval import (\n",
      "/usr/lib64/python2.7/site-packages/pandas/core/internals.py:14: RuntimeWarning: numpy.dtype size changed, may indicate binary incompatibility. Expected 96, got 88\n",
      "  from pandas._libs import internals as libinternals\n",
      "/usr/lib64/python2.7/site-packages/pandas/core/sparse/array.py:33: RuntimeWarning: numpy.dtype size changed, may indicate binary incompatibility. Expected 96, got 88\n",
      "  import pandas._libs.sparse as splib\n",
      "/usr/lib64/python2.7/site-packages/pandas/core/window.py:36: RuntimeWarning: numpy.dtype size changed, may indicate binary incompatibility. Expected 96, got 88\n",
      "  import pandas._libs.window as _window\n",
      "/usr/lib64/python2.7/site-packages/pandas/core/groupby/groupby.py:68: RuntimeWarning: numpy.dtype size changed, may indicate binary incompatibility. Expected 96, got 88\n",
      "  from pandas._libs import (lib, reduction,\n",
      "/usr/lib64/python2.7/site-packages/pandas/core/reshape/reshape.py:30: RuntimeWarning: numpy.dtype size changed, may indicate binary incompatibility. Expected 96, got 88\n",
      "  from pandas._libs import algos as _algos, reshape as _reshape\n",
      "/usr/lib64/python2.7/site-packages/pandas/io/parsers.py:45: RuntimeWarning: numpy.dtype size changed, may indicate binary incompatibility. Expected 96, got 88\n",
      "  import pandas._libs.parsers as parsers\n",
      "/usr/lib64/python2.7/site-packages/pandas/io/pytables.py:50: RuntimeWarning: numpy.dtype size changed, may indicate binary incompatibility. Expected 96, got 88\n",
      "  from pandas._libs import algos, lib, writers as libwriters\n"
     ]
    }
   ],
   "source": [
    "from bigdl.nn.layer import Model\n",
    "from bigdl.nn.criterion import *\n",
    "from bigdl.optim.optimizer import *\n",
    "from pyspark.sql import SparkSession\n",
    "from pyspark.sql import SQLContext\n",
    "from pyspark.sql.functions import col, udf\n",
    "from pyspark.sql.types import *\n",
    "from pyspark.sql.types import DoubleType\n",
    "from pyspark.sql.types import StringType, ArrayType\n",
    "\n",
    "from zoo.common.nncontext import *\n",
    "from zoo.feature.image import *\n",
    "from zoo.models.image.imageclassification import *\n",
    "from zoo.pipeline.nnframes import *\n",
    "from zoo.pipeline.api.net import Net\n",
    "from zoo.pipeline.api.keras.models import Sequential\n",
    "from zoo.pipeline.api.keras.layers import *\n",
    "from zoo.pipeline.api.keras.metrics import AUC\n",
    "from zoo.pipeline.nnframes import NNEstimator\n",
    "from zoo.pipeline.api.keras.objectives import BinaryCrossEntropy\n",
    "\n",
    "import pandas as pd\n",
    "import time\n",
    "from PIL import Image\n",
    "\n",
    "sparkConf = create_spark_conf().setAppName(\"ChestXray_Inference\")\n",
    "sc = init_nncontext(sparkConf)\n",
    "spark = SparkSession.builder.config(conf=sparkConf).getOrCreate()\n",
    "sqlContext = SQLContext(sc)"
   ]
  },
  {
   "cell_type": "markdown",
   "metadata": {},
   "source": [
    "## Loading data paths"
   ]
  },
  {
   "cell_type": "markdown",
   "metadata": {},
   "source": [
    "Loading the data of image and label from HDFS location"
   ]
  },
  {
   "cell_type": "code",
   "execution_count": 2,
   "metadata": {},
   "outputs": [],
   "source": [
    "test_image_path = \"hdfs:///datasets/xray/all_images/00000006_000.png\"\n",
    "label_path = \"hdfs:///datasets/xray/Data_Entry_2017.csv\""
   ]
  },
  {
   "cell_type": "markdown",
   "metadata": {},
   "source": [
    "Labels"
   ]
  },
  {
   "cell_type": "code",
   "execution_count": 3,
   "metadata": {},
   "outputs": [
    {
     "name": "stdout",
     "output_type": "stream",
     "text": [
      "CPU times: user 9 µs, sys: 0 ns, total: 9 µs\n",
      "Wall time: 11.9 µs\n"
     ]
    }
   ],
   "source": [
    "%%time\n",
    "label_texts = [\"Atelectasis\", \"Cardiomegaly\", \"Effusion\", \"Infiltration\", \"Mass\", \"Nodule\", \"Pneumonia\",\n",
    "               \"Pneumothorax\", \"Consolidation\", \"Edema\", \"Emphysema\", \"Fibrosis\", \"Pleural_Thickening\", \"Hernia\"]\n",
    "label_map = {k: v for v, k in enumerate(label_texts)}\n",
    "\n",
    "def text_to_label(text):\n",
    "    arr = [0.0] * len(label_texts)\n",
    "    for l in text.split(\"|\"):\n",
    "        if l != \"No Finding\":\n",
    "            arr[label_map[l]] = 1.0\n",
    "    return arr\n",
    "\n",
    "label_length = len(label_texts)"
   ]
  },
  {
   "cell_type": "markdown",
   "metadata": {},
   "source": [
    "Create Inference Dataframe"
   ]
  },
  {
   "cell_type": "code",
   "execution_count": 4,
   "metadata": {},
   "outputs": [
    {
     "name": "stdout",
     "output_type": "stream",
     "text": [
      "CPU times: user 21.9 ms, sys: 2.06 ms, total: 23.9 ms\n",
      "Wall time: 4.04 s\n"
     ]
    }
   ],
   "source": [
    "%%time\n",
    "getLabel = udf(lambda x: text_to_label(x), ArrayType(DoubleType()))\n",
    "getName = udf(lambda row: os.path.basename(row[0]), StringType())\n",
    "test_imageDF = NNImageReader.readImages(test_image_path, sc, resizeH=256, resizeW=256, image_codec=1)\\\n",
    "                .withColumn(\"Image Index\", getName(col('image')))\n",
    "imageDF = test_imageDF.withColumnRenamed('Image Index', 'Image_Index')\n",
    "labelDF = sqlContext.read.option('timestampFormat', 'yyyy/MM/dd HH:mm:ss ZZ')\\\n",
    "            .load(label_path, format=\"csv\", sep=\",\", inferSchema=\"true\", header=\"true\")\\\n",
    "            .select(\"Image Index\", \"Finding Labels\")\\\n",
    "            .withColumn(\"label\", getLabel(col('Finding Labels')))\\\n",
    "            .withColumnRenamed('Image Index', 'Image_Index')\n",
    "labelDF1 = labelDF.withColumnRenamed('Image Index', 'Image_Index')\\\n",
    "            .withColumnRenamed('Finding Labels', 'Finding_Labels')\n",
    "trainDF = imageDF.join(labelDF1, on=\"Image_Index\", how=\"inner\")"
   ]
  },
  {
   "cell_type": "markdown",
   "metadata": {},
   "source": [
    "Load ResNet-50 Analytics Zoo Keras Model"
   ]
  },
  {
   "cell_type": "code",
   "execution_count": 5,
   "metadata": {},
   "outputs": [
    {
     "name": "stdout",
     "output_type": "stream",
     "text": [
      "CPU times: user 4.2 ms, sys: 1.18 ms, total: 5.38 ms\n",
      "Wall time: 19.9 s\n"
     ]
    }
   ],
   "source": [
    "%%time\n",
    "resnet_zoo_model = Net.load(\"hdfs:///user/leelau/xray/save_model/model.bigdl\", \"hdfs:///user/leelau/xray/save_model/model.bin\")\n",
    "type(resnet_zoo_model)"
   ]
  },
  {
   "cell_type": "markdown",
   "metadata": {},
   "source": [
    "Inference using the loaded ResNet Model which is used on trainDF"
   ]
  },
  {
   "cell_type": "code",
   "execution_count": 6,
   "metadata": {},
   "outputs": [
    {
     "name": "stdout",
     "output_type": "stream",
     "text": [
      "CPU times: user 2 µs, sys: 1 µs, total: 3 µs\n",
      "Wall time: 5.96 µs\n"
     ]
    }
   ],
   "source": [
    "%%time\n",
    "def predict(model, inputdf, image_feature_col = \"image\", batchsize=4):\n",
    "    \"\"\"\n",
    "    Predict output of when inputdf is passed through model\n",
    "    \"\"\"\n",
    "    transformer = ChainedPreprocessing([\n",
    "        RowToImageFeature(),\n",
    "        ImageCenterCrop(224, 224),\n",
    "        ImageChannelNormalize(123.68, 116.779, 103.939),\n",
    "        ImageMatToTensor(),\n",
    "        ImageFeatureToTensor()])\n",
    "    classifier_model = NNModel(model, transformer).setFeaturesCol(image_feature_col)\\\n",
    "                        .setBatchSize(batchsize)\n",
    "    output = classifier_model.transform(inputdf)\n",
    "    return output\n",
    "\n",
    "def show_prediction_output(predDF):\n",
    "    \"\"\"\n",
    "    Display the output size and array\n",
    "    \"\"\"\n",
    "    print(predDF.show(1))\n",
    "    print(\"length of prediction array : \", len(predDF.collect()[0].prediction))\n",
    "    predictions_list = predDF.collect()[0].prediction\n",
    "    labelList = predDF.collect()[0].label\n",
    "    print(\"{:<15} - {:<25} - {:<15}\".format('Finding_Labels', 'Prediction', 'Label'))\n",
    "    print(\"{:<15} - {:<25} - {:<15}\".format('-'*len('Finding_Labels'), '-'*len('Prediction'), '-'*len('Label')))\n",
    "    for indx in range(0, len(predictions_list)):\n",
    "        print(\"{:<15} - {:<25} - {:<15}\".format(label_texts[indx], predictions_list[indx], labelList[indx]))"
   ]
  },
  {
   "cell_type": "markdown",
   "metadata": {},
   "source": [
    "Check output of the loaded ResNet model which is used in the Inference Dataframe"
   ]
  },
  {
   "cell_type": "code",
   "execution_count": 7,
   "metadata": {},
   "outputs": [
    {
     "name": "stdout",
     "output_type": "stream",
     "text": [
      "creating: createRowToImageFeature\n",
      "creating: createImageCenterCrop\n",
      "creating: createImageChannelNormalize\n",
      "creating: createImageMatToTensor\n",
      "creating: createImageFeatureToTensor\n",
      "creating: createChainedPreprocessing\n",
      "creating: createTensorToSample\n",
      "creating: createChainedPreprocessing\n",
      "creating: createNNModel\n",
      "+----------------+--------------------+--------------+--------------------+--------------------+\n",
      "|     Image_Index|               image|Finding_Labels|               label|          prediction|\n",
      "+----------------+--------------------+--------------+--------------------+--------------------+\n",
      "|00000006_000.png|[hdfs://gnamenode...|    No Finding|[0.0, 0.0, 0.0, 0...|[0.10832821, 0.02...|\n",
      "+----------------+--------------------+--------------+--------------------+--------------------+\n",
      "\n",
      "None\n",
      "('length of prediction array : ', 14)\n",
      "Finding_Labels  - Prediction                - Label          \n",
      "--------------  - ----------                - -----          \n",
      "Atelectasis     - 0.108328208327            - 0.0            \n",
      "Cardiomegaly    - 0.0212457757443           - 0.0            \n",
      "Effusion        - 0.0988427698612           - 0.0            \n",
      "Infiltration    - 0.0765516832471           - 0.0            \n",
      "Mass            - 0.0439193621278           - 0.0            \n",
      "Nodule          - 0.0471589006484           - 0.0            \n",
      "Pneumonia       - 0.0137992184609           - 0.0            \n",
      "Pneumothorax    - 0.0451916456223           - 0.0            \n",
      "Consolidation   - 0.019662713632            - 0.0            \n",
      "Edema           - 0.00648660678416          - 0.0            \n",
      "Emphysema       - 0.0327687188983           - 0.0            \n",
      "Fibrosis        - 0.0437174364924           - 0.0            \n",
      "Pleural_Thickening - 0.0725899860263           - 0.0            \n",
      "Hernia          - 0.0120051680133           - 0.0            \n",
      "CPU times: user 22.2 ms, sys: 5.21 ms, total: 27.5 ms\n",
      "Wall time: 7.56 s\n"
     ]
    }
   ],
   "source": [
    "%%time\n",
    "output = predict(resnet_zoo_model, trainDF)\n",
    "show_prediction_output(output)"
   ]
  }
 ],
 "metadata": {
  "kernelspec": {
   "display_name": "Python 2",
   "language": "python",
   "name": "python2"
  },
  "language_info": {
   "codemirror_mode": {
    "name": "ipython",
    "version": 2
   },
   "file_extension": ".py",
   "mimetype": "text/x-python",
   "name": "python",
   "nbconvert_exporter": "python",
   "pygments_lexer": "ipython2",
   "version": "2.7.5"
  }
 },
 "nbformat": 4,
 "nbformat_minor": 2
}
