{
 "cells": [
  {
   "cell_type": "markdown",
   "metadata": {},
   "source": [
    "# Notebook to predict diseases in chest X-ray"
   ]
  },
  {
   "cell_type": "markdown",
   "metadata": {},
   "source": [
    "In this notebook we show we can predict (inference) diseases from chest X-ray images. Refer to [ChestXray-Training.ipynb](./ChestXray-Training.ipynb) notebook for information on training the model."
   ]
  },
  {
   "cell_type": "markdown",
   "metadata": {},
   "source": [
    "## Import required modules"
   ]
  },
  {
   "cell_type": "code",
   "execution_count": 7,
   "metadata": {
    "scrolled": true
   },
   "outputs": [
    {
     "name": "stdout",
     "output_type": "stream",
     "text": [
      "Populating the interactive namespace from numpy and matplotlib\n"
     ]
    }
   ],
   "source": [
    "%pylab inline\n",
    "\n",
    "import warnings\n",
    "# Ignoring the warnings to improve readability of the notebook\n",
    "warnings.filterwarnings(\"ignore\", message=\"numpy.dtype size changed\")\n",
    "\n",
    "from bigdl.nn.layer import Model\n",
    "from bigdl.nn.criterion import *\n",
    "from bigdl.optim.optimizer import *\n",
    "from pyspark.sql import SparkSession\n",
    "from pyspark.sql import SQLContext\n",
    "from pyspark.sql.functions import col, udf\n",
    "from pyspark.sql.types import *\n",
    "from pyspark.sql.types import DoubleType\n",
    "from pyspark.sql.types import StringType, ArrayType\n",
    "\n",
    "from zoo.common.nncontext import *\n",
    "from zoo.feature.image import *\n",
    "from zoo.models.image.imageclassification import *\n",
    "from zoo.pipeline.nnframes import *\n",
    "from zoo.pipeline.api.net import Net\n",
    "from zoo.pipeline.api.keras.models import Sequential\n",
    "from zoo.pipeline.api.keras.layers import *\n",
    "from zoo.pipeline.api.keras.metrics import AUC\n",
    "from zoo.pipeline.nnframes import NNEstimator\n",
    "from zoo.pipeline.api.keras.objectives import BinaryCrossEntropy\n",
    "\n",
    "import time\n",
    "import matplotlib.pyplot as plt\n",
    "import matplotlib.image as mpimg"
   ]
  },
  {
   "cell_type": "markdown",
   "metadata": {},
   "source": [
    "## Get Spark Content and load the trained model"
   ]
  },
  {
   "cell_type": "code",
   "execution_count": 8,
   "metadata": {},
   "outputs": [],
   "source": [
    "# Function to get the Spark content and load the image\n",
    "def load_spark_model(model_path, bin_path):\n",
    "    # Get Spark Content\n",
    "    sparkConf = create_spark_conf().setAppName(\"ChestXray_Inference\")\n",
    "    sc = init_nncontext(sparkConf)\n",
    "    spark = SparkSession.builder.config(conf=sparkConf).getOrCreate()\n",
    "    sqlContext = SQLContext(sc)\n",
    "\n",
    "    # Load the model\n",
    "    trained_model = Net.load(model_path, bin_path)\n",
    "    return trained_model"
   ]
  },
  {
   "cell_type": "code",
   "execution_count": 9,
   "metadata": {},
   "outputs": [],
   "source": [
    "# Function to display the Xray in \n",
    "def display_xray(image_path):\n",
    "    img=mpimg.imread(image_path)\n",
    "    imgplot = plt.imshow(img)\n",
    "    plt.show()"
   ]
  },
  {
   "cell_type": "code",
   "execution_count": 10,
   "metadata": {},
   "outputs": [],
   "source": [
    "def text_to_label(text):\n",
    "    label_texts = [\"Atelectasis\", \"Cardiomegaly\", \"Effusion\", \"Infiltration\", \"Mass\", \"Nodule\", \"Pneumonia\",\n",
    "               \"Pneumothorax\", \"Consolidation\", \"Edema\", \"Emphysema\", \"Fibrosis\", \"Pleural_Thickening\", \"Hernia\"]\n",
    "    label_map = {k: v for v, k in enumerate(label_texts)}\n",
    "\n",
    "    arr = [0.0] * len(label_texts)\n",
    "    for l in text.split(\"|\"):\n",
    "        if l != \"No Finding\":\n",
    "            arr[label_map[l]] = 1.0\n",
    "    return arr\n",
    "\n",
    "def predict(model, label_path, image_path):\n",
    "    \n",
    "    label_texts = [\"Atelectasis\", \"Cardiomegaly\", \"Effusion\", \"Infiltration\", \"Mass\", \"Nodule\", \"Pneumonia\",\n",
    "               \"Pneumothorax\", \"Consolidation\", \"Edema\", \"Emphysema\", \"Fibrosis\", \"Pleural_Thickening\", \"Hernia\"]\n",
    "\n",
    "    label_map = {k: v for v, k in enumerate(label_texts)}\n",
    "\n",
    "    label_length = len(label_texts)\n",
    "    \n",
    "    # load the image\n",
    "    getLabel = udf(lambda x: text_to_label(x), ArrayType(DoubleType()))\n",
    "    getName = udf(lambda row: os.path.basename(row[0]), StringType())\n",
    "    test_imageDF = NNImageReader.readImages(image_path, sc, resizeH=256, resizeW=256, image_codec=1)\\\n",
    "                    .withColumn(\"Image Index\", getName(col('image')))\n",
    "    imageDF = test_imageDF.withColumnRenamed('Image Index', 'Image_Index')\n",
    "    labelDF = sqlContext.read.option('timestampFormat', 'yyyy/MM/dd HH:mm:ss ZZ')\\\n",
    "                .load(label_path, format=\"csv\", sep=\",\", inferSchema=\"true\", header=\"true\")\\\n",
    "                .select(\"Image_Index\", \"Finding_Labels\")\\\n",
    "                .withColumn(\"label\", getLabel(col('Finding_Labels')))\\\n",
    "                .withColumnRenamed('Image Index', 'Image_Index')\n",
    "    labelDF1 = labelDF.withColumnRenamed('Image Index', 'Image_Index')\\\n",
    "                .withColumnRenamed('Finding Labels', 'Finding_Labels')\n",
    "    inferDF = imageDF.join(labelDF1, on=\"Image_Index\", how=\"inner\")    \n",
    "    \n",
    "    # Predict output of when inputdf is passed through model\n",
    "    transformer = ChainedPreprocessing([\n",
    "        RowToImageFeature(),\n",
    "        ImageCenterCrop(224, 224),\n",
    "        ImageChannelNormalize(123.68, 116.779, 103.939),\n",
    "        ImageMatToTensor(),\n",
    "        ImageFeatureToTensor()])\n",
    "    classifier_model = NNModel(model, transformer).setFeaturesCol(\"image\")\\\n",
    "                        .setBatchSize(1)\n",
    "    output = classifier_model.transform(inferDF)\n",
    "    return output\n",
    "\n",
    "def print_prediction_output(predDF):\n",
    "    print(\"\\n\\n\")  \n",
    "    label_texts = [\"Atelectasis\", \"Cardiomegaly\", \"Effusion\", \"Infiltration\", \"Mass\", \"Nodule\", \"Pneumonia\",\n",
    "               \"Pneumothorax\", \"Consolidation\", \"Edema\", \"Emphysema\", \"Fibrosis\", \"Pleural_Thickening\", \"Hernia\"]\n",
    "\n",
    "#    print(predDF.show(1))\n",
    "#    print(\"length of prediction array : \", len(predDF.collect()[0].prediction))\n",
    "    predictions_list = predDF.collect()[0].prediction\n",
    "    labelList = predDF.collect()[0].label\n",
    "    print(\"{:<25} - {:<25} - {:<15}\".format('Finding_Labels', 'Prediction', 'Label'))\n",
    "    print(\"{:<25} - {:<25} - {:<15}\".format('-'*len('Finding_Labels'), '-'*len('Prediction'), '-'*len('Label')))\n",
    "    for indx in range(0, len(predictions_list)):\n",
    "        print(\"{:<25} - {:<25} - {:<15}\".format(label_texts[indx], predictions_list[indx], labelList[indx]))\n",
    "    print(\"\\n\\n\")"
   ]
  },
  {
   "cell_type": "code",
   "execution_count": 11,
   "metadata": {},
   "outputs": [
    {
     "name": "stdout",
     "output_type": "stream",
     "text": [
      "CPU times: user 16.2 ms, sys: 2.22 ms, total: 18.4 ms\n",
      "Wall time: 4.68 s\n"
     ]
    }
   ],
   "source": [
    "%%time\n",
    "if __name__== \"__main__\":\n",
    "    \n",
    "    # Path to the NIH label file, the model and the labels from NIH\n",
    "    model_path = \"file:///home/bala/xray-inference/BigDL-ImageProcessing-Examples/trained-model/xray_model_2019_04_04_05_31_10.bigdl\"\n",
    "    bin_path = \"file:///home/bala/xray-inference/BigDL-ImageProcessing-Examples/trained-model/xray_model_2019_04_04_05_31_10.bin\"\n",
    "    label_path = \"file:///home/bala/xray-inference/BigDL-ImageProcessing-Examples/trained-model/Data_Entry_2017.csv\"\n",
    "   \n",
    "    trained_model = load_spark_model(model_path,bin_path)"
   ]
  },
  {
   "cell_type": "code",
   "execution_count": 12,
   "metadata": {
    "scrolled": false
   },
   "outputs": [
    {
     "name": "stdout",
     "output_type": "stream",
     "text": [
      "creating: createRowToImageFeature\n",
      "creating: createImageCenterCrop\n",
      "creating: createImageChannelNormalize\n",
      "creating: createImageMatToTensor\n",
      "creating: createImageFeatureToTensor\n",
      "creating: createChainedPreprocessing\n",
      "creating: createTensorToSample\n",
      "creating: createChainedPreprocessing\n",
      "creating: createNNModel\n",
      "\n",
      "\n",
      "\n",
      "Finding_Labels            - Prediction                - Label          \n",
      "--------------            - ----------                - -----          \n",
      "Atelectasis               - 0.0513895861804           - 0.0            \n",
      "Cardiomegaly              - 0.999990344048            - 1.0            \n",
      "Effusion                  - 0.772566437721            - 1.0            \n",
      "Infiltration              - 0.104134827852            - 0.0            \n",
      "Mass                      - 0.00671234633774          - 0.0            \n",
      "Nodule                    - 0.00529360491782          - 0.0            \n",
      "Pneumonia                 - 0.00492261582986          - 0.0            \n",
      "Pneumothorax              - 0.00217330595478          - 0.0            \n",
      "Consolidation             - 0.0124941058457           - 0.0            \n",
      "Edema                     - 0.00712430523708          - 0.0            \n",
      "Emphysema                 - 0.00228400458582          - 0.0            \n",
      "Fibrosis                  - 0.0059804264456           - 0.0            \n",
      "Pleural_Thickening        - 0.00832628458738          - 0.0            \n",
      "Hernia                    - 0.00239278026856          - 0.0            \n",
      "\n",
      "\n",
      "\n",
      "CPU times: user 38 ms, sys: 3.13 ms, total: 41.2 ms\n",
      "Wall time: 2.82 s\n"
     ]
    }
   ],
   "source": [
    "%%time\n",
    "    # Path to the image for inference\n",
    "    image_path = \"file:///home/bala/xray-inference/BigDL-ImageProcessing-Examples/images/00000001_002.png\"\n",
    "    predictionDF = predict(trained_model, label_path, image_path)\n",
    "    print_prediction_output(predictionDF)"
   ]
  }
 ],
 "metadata": {
  "kernelspec": {
   "display_name": "Python 2",
   "language": "python",
   "name": "python2"
  },
  "language_info": {
   "codemirror_mode": {
    "name": "ipython",
    "version": 2
   },
   "file_extension": ".py",
   "mimetype": "text/x-python",
   "name": "python",
   "nbconvert_exporter": "python",
   "pygments_lexer": "ipython2",
   "version": "2.7.5"
  }
 },
 "nbformat": 4,
 "nbformat_minor": 2
}
