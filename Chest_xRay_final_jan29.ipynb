{
 "cells": [
  {
   "cell_type": "markdown",
   "metadata": {},
   "source": [
    "# Transfer learning for Multiple classes and Multiple labels"
   ]
  },
  {
   "cell_type": "markdown",
   "metadata": {},
   "source": [
    "In this example, transfer learning is used by training the model from scratch without freezing any layers. The first step is reading images from HDFS and then convert all images into SQL spark dataframe. \n",
    "You can refer to the convert images notebook which reads all images from HDFS and convert them into SQL spark dataframe. \n",
    "The code also assigned with labels for each image by reading CSV file that contains image indexes and their labels."
   ]
  },
  {
   "cell_type": "markdown",
   "metadata": {},
   "source": [
    "## Vistualize the statistical Information about dataset "
   ]
  },
  {
   "cell_type": "markdown",
   "metadata": {},
   "source": [
    "The dataset statistical information can be visualized in our dataset statistical data code. "
   ]
  },
  {
   "cell_type": "markdown",
   "metadata": {},
   "source": [
    "## Import the required packages\n",
    "In this following cell all required packages are downloaded. If you get any error please try to install the required packages using pip command or download the required libraries such as BigDL."
   ]
  },
  {
   "cell_type": "code",
   "execution_count": 1,
   "metadata": {},
   "outputs": [
    {
     "name": "stderr",
     "output_type": "stream",
     "text": [
      "/usr/lib64/python2.7/site-packages/scipy/sparse/lil.py:16: RuntimeWarning: numpy.dtype size changed, may indicate binary incompatibility. Expected 96, got 88\n",
      "  from . import _csparsetools\n"
     ]
    }
   ],
   "source": [
    "import random\n",
    "import time\n",
    "from math import ceil\n",
    "from bigdl.optim.optimizer import SGD, SequentialSchedule, Warmup, Poly, Plateau, EveryEpoch, TrainSummary,\\\n",
    "    ValidationSummary, SeveralIteration, Step, L2Regularizer\n",
    "from pyspark.ml.evaluation import BinaryClassificationEvaluator\n",
    "from pyspark.sql import SparkSession, SQLContext\n",
    "from pyspark.sql.functions import col, udf\n",
    "from pyspark.sql.types import DoubleType\n",
    "from pyspark.storagelevel import StorageLevel\n",
    "from zoo.common.nncontext import *\n",
    "from zoo.feature.image.imagePreprocessing import *\n",
    "from zoo.feature.common import ChainedPreprocessing\n",
    "from zoo.pipeline.api.keras.layers import Input, Flatten, Dense, GlobalAveragePooling2D, Dropout\n",
    "from zoo.pipeline.api.keras.metrics import AUC\n",
    "from zoo.pipeline.api.keras.optimizers import Adam\n",
    "from zoo.pipeline.api.keras.models import Model\n",
    "from zoo.pipeline.api.net import Net\n",
    "from zoo.pipeline.nnframes import NNEstimator\n",
    "from zoo.pipeline.api.keras.objectives import BinaryCrossEntropy"
   ]
  },
  {
   "cell_type": "markdown",
   "metadata": {},
   "source": [
    "## Inception pre-trained model \n",
    "After downloading the pre-trained models and moving them to HDFS, now you can use any of them with the below defined functions as shown in the following cells."
   ]
  },
  {
   "cell_type": "code",
   "execution_count": 2,
   "metadata": {},
   "outputs": [],
   "source": [
    "def get_inception_model(model_path, label_length):\n",
    "    full_model = Net.load_bigdl(model_path)\n",
    "    model = full_model.new_graph([\"pool5/drop_7x7_s1\"])  # this inception\n",
    "    inputNode = Input(name=\"input\", shape=(3, 224, 224))\n",
    "    inception = model.to_keras()(inputNode)\n",
    "    flatten = GlobalAveragePooling2D(dim_ordering='th')(inception)\n",
    "    dropout = Dropout(0.25)(flatten)\n",
    "    logits = Dense(label_length, W_regularizer=L2Regularizer(1e-1), b_regularizer=L2Regularizer(1e-1), activation=\"sigmoid\")(dropout)\n",
    "    lrModel = Model(inputNode, logits)\n",
    "    return lrModel"
   ]
  },
  {
   "cell_type": "code",
   "execution_count": 3,
   "metadata": {},
   "outputs": [],
   "source": [
    "def get_resnet_model(model_path, label_length):\n",
    "    full_model = Net.load_bigdl(model_path)\n",
    "    model = full_model.new_graph([\"pool5\"])\n",
    "    print(('num of model layers: ', len(model.layers)))\n",
    "    inputNode = Input(name=\"input\", shape=(3, 224, 224))\n",
    "    resnet = model.to_keras()(inputNode)\n",
    "    flatten = GlobalAveragePooling2D(dim_ordering='th')(resnet)\n",
    "    dropout = Dropout(0.2)(flatten)\n",
    "    logits = Dense(label_length, W_regularizer=L2Regularizer(1e-1), b_regularizer=L2Regularizer(1e-1), activation=\"sigmoid\")(dropout)\n",
    "    lrModel = Model(inputNode, logits)\n",
    "    return lrModel"
   ]
  },
  {
   "cell_type": "code",
   "execution_count": 4,
   "metadata": {},
   "outputs": [],
   "source": [
    "def get_vgg_model(model_path, label_length):\n",
    "    full_model = Net.load_bigdl(model_path)\n",
    "    model = full_model.new_graph([\"pool5\"])\n",
    "    print(('num of model layers: ', len(model.layers)))\n",
    "    inputNode = Input(name=\"input\", shape=(3, 224, 224))\n",
    "    vgg_16 = model.to_keras()(inputNode)\n",
    "    flatten = GlobalAveragePooling2D(dim_ordering='th')(vgg_16)\n",
    "    dropout = Dropout(0.25)(flatten)\n",
    "    logits = Dense(label_length, W_regularizer=L2Regularizer(1e-1), b_regularizer=L2Regularizer(1e-1), activation=\"sigmoid\")(dropout)\n",
    "    lrModel = Model(inputNode, logits)\n",
    "    return lrModel"
   ]
  },
  {
   "cell_type": "code",
   "execution_count": 5,
   "metadata": {},
   "outputs": [],
   "source": [
    "def get_densenet_model(model_path, label_length):\n",
    "    full_model = Net.load_bigdl(model_path)\n",
    "    model = full_model.new_graph([\"pool5\"])\n",
    "    print(('num of model layers: ', len(model.layers)))\n",
    "    inputNode = Input(name=\"input\", shape=(3, 224, 224))\n",
    "    densenet = model.to_keras()(inputNode)\n",
    "    flatten = GlobalAveragePooling2D(dim_ordering='th')(densenet)\n",
    "    dropout = Dropout(0.25)(flatten)\n",
    "    logits = Dense(label_length, W_regularizer=L2Regularizer(1e-1), b_regularizer=L2Regularizer(1e-1), activation=\"sigmoid\")(dropout)\n",
    "    lrModel = Model(inputNode, logits)\n",
    "    return lrModel"
   ]
  },
  {
   "cell_type": "markdown",
   "metadata": {},
   "source": [
    "## Learning Rate Scheduler for SGD optimizer  \n"
   ]
  },
  {
   "cell_type": "code",
   "execution_count": 6,
   "metadata": {},
   "outputs": [],
   "source": [
    "def get_sgd_optimMethod(num_epoch, trainingCount, batchSize):\n",
    "    iterationPerEpoch = int(ceil(float(trainingCount) / batchSize))\n",
    "    # maxIteration = num_epoch * iterationPerEpoch\n",
    "    warmupEpoch = 10\n",
    "    warmup_iteration = warmupEpoch * iterationPerEpoch\n",
    "    init_lr = 1e-6\n",
    "    # maxlr = 0.001 * batch_size / 8\n",
    "    maxlr = 0.001\n",
    "    print(\"peak lr is: \", maxlr)\n",
    "    warmupDelta = (maxlr - init_lr) / warmup_iteration\n",
    "    cooldownIteration = (num_epoch - warmupEpoch) * iterationPerEpoch\n",
    "\n",
    "    lrSchedule = SequentialSchedule(iterationPerEpoch)\n",
    "    lrSchedule.add(Warmup(warmupDelta), warmup_iteration)\n",
    "    #lrSchedule.add(Step(iterationPerEpoch * 10, 0.1), cooldownIteration)\n",
    "    lrSchedule.add(Plateau(\"Loss\", factor=0.1, patience=1, mode=\"min\", epsilon=0.01, cooldown=0, min_lr=1e-15 ), cooldownIteration)\n",
    "    optim = SGD(learningrate=init_lr, momentum=0.9, dampening=0.0, nesterov=True,\n",
    "                leaningrate_schedule=lrSchedule)\n",
    "    return optim"
   ]
  },
  {
   "cell_type": "markdown",
   "metadata": {},
   "source": [
    "## Learning Rate Scheduler for ADAM optimizer"
   ]
  },
  {
   "cell_type": "code",
   "execution_count": 7,
   "metadata": {},
   "outputs": [],
   "source": [
    "def get_adam_optimMethod(num_epoch, trainingCount, batchSize):\n",
    "    iterationPerEpoch = int(ceil(float(trainingCount) / batchSize))\n",
    "    warmupEpoch = 5\n",
    "    warmup_iteration = warmupEpoch * iterationPerEpoch\n",
    "    init_lr = 1e-7\n",
    "    maxlr = 0.0001\n",
    "    print(\"peak lr is: \", maxlr)\n",
    "    warmupDelta = (maxlr - init_lr) / warmup_iteration\n",
    "    cooldownIteration = (num_epoch - warmupEpoch) * iterationPerEpoch\n",
    "\n",
    "    lrSchedule = SequentialSchedule(iterationPerEpoch)\n",
    "    lrSchedule.add(Warmup(warmupDelta), warmup_iteration)\n",
    "    lrSchedule.add(Plateau(\"Loss\", factor=0.1, patience=1, mode=\"min\", epsilon=0.01, cooldown=0, min_lr=1e-15 ),\n",
    "                   cooldownIteration)\n",
    "    optim = Adam(lr=init_lr, schedule=lrSchedule)\n",
    "    return optim"
   ]
  },
  {
   "cell_type": "markdown",
   "metadata": {},
   "source": [
    "## Convert class labels into one hot encoding \n",
    "This function will convert each labels into one hot encoding with multiple labels as sequence of 0's and 1's "
   ]
  },
  {
   "cell_type": "code",
   "execution_count": 8,
   "metadata": {},
   "outputs": [],
   "source": [
    "def get_auc_for_kth_class(k, df, label_col=\"label\", prediction_col=\"prediction\"):\n",
    "    get_Kth = udf(lambda a: a[k], DoubleType())\n",
    "    extracted_df = df.withColumn(\"kth_label\", get_Kth(col(label_col))) \\\n",
    "        .withColumn(\"kth_prediction\", get_Kth(col(prediction_col))) \\\n",
    "        .select('kth_label', 'kth_prediction')\n",
    "    # areaUnderROC|areaUnderPR\n",
    "    roc_score = BinaryClassificationEvaluator(rawPredictionCol='kth_prediction',\n",
    "                                              labelCol='kth_label',\n",
    "                                              metricName=\"areaUnderROC\") \\\n",
    "        .evaluate(extracted_df)\n",
    "\n",
    "    return roc_score"
   ]
  },
  {
   "cell_type": "markdown",
   "metadata": {},
   "source": [
    "## Plot AUC\n",
    "This evaluate and printout auc for all 14 classes \n"
   ]
  },
  {
   "cell_type": "code",
   "execution_count": 10,
   "metadata": {},
   "outputs": [
    {
     "name": "stdout",
     "output_type": "stream",
     "text": [
      "Populating the interactive namespace from numpy and matplotlib\n"
     ]
    }
   ],
   "source": [
    "%matplotlib notebook\n",
    "%pylab inline\n",
    "def plotingAuc(roc_auc_label):\n",
    "    print(\" Plotting Area Under Curve for 14 classes \")\n",
    "    lists=[]\n",
    "    lists = sorted(roc_auc_label.items()) \n",
    "    label_texts = [\"Atelectasis\", \"Cardiomegaly\", \"Effusion\", \"Infiltration\", \"Mass\", \"Nodule\", \"Pneumonia\",\n",
    "                   \"Pneumothorax\", \"Consolidation\",\"Edema\", \"Emphysema\", \"Fibrosis\", \"Pleural_Thickening\", \"Hernia\"]\n",
    "    x, y =zip(*lists)\n",
    "    label_map = {k: v for v, k in enumerate(label_texts)}\n",
    "    import numpy as np\n",
    "    rng = np.random.RandomState(0)\n",
    "    #matplotlib.use('Agg')\n",
    "    fig, ax = plt.subplots(figsize=(10, 5))\n",
    "    sizes = 500 * rng.rand(100)\n",
    "    colors = ['#005249','#2300A8', '#00A658', '#00A6B8','#00A6BC', '#00AA58','#1805db', '#154406', '#631950','#000000','#850e04','#84b701','#adf802','#042e60']\n",
    "    #print (len(colors))\n",
    "    plt.ylabel(\"AUC\")\n",
    "    plt.xlabel(\"Classes\")\n",
    "    plt.title(\"AUC for all 14 classes\")\n",
    "    plt.scatter(x, y,  alpha=0.50, color=colors,s=sizes,   cmap='viridis',  marker = '*')\n",
    "    plt.grid(color='grey', linestyle='-', linewidth=0.5, alpha=0.5)\n",
    "    ax.set_xticklabels(x, rotation=45 );\n",
    "    plt.show()\n"
   ]
  },
  {
   "cell_type": "markdown",
   "metadata": {},
   "source": [
    "## Evaluating the model and plot AUC "
   ]
  },
  {
   "cell_type": "code",
   "execution_count": 11,
   "metadata": {},
   "outputs": [],
   "source": [
    "def evaluate(testDF):\n",
    "    predictionDF = nnModel.transform(testDF).persist(storageLevel=StorageLevel.DISK_ONLY)\n",
    "    label_texts= [\"Atelectasis\", \"Cardiomegaly\", \"Effusion\", \"Infiltration\", \"Mass\", \"Nodule\", \"Pneumonia\",\n",
    "                   \"Pneumothorax\", \"Consolidation\", \"Edema\", \"Emphysema\", \"Fibrosis\", \"Pleural_Thickening\", \"Hernia\"]\n",
    "    label_map = {k: v for v, k in enumerate(label_texts)}\n",
    "    total_auc = 0.0\n",
    "    roc_auc_label =dict()\n",
    "    for i in range(label_length):\n",
    "        roc_score = get_auc_for_kth_class(i, predictionDF)\n",
    "        total_auc += roc_score\n",
    "        print('{:>12} {:>25} {:>5} {:<20}'.format('roc score for ', label_texts[i], ' is: ', roc_score))\n",
    "        roc_auc_label[i]=(roc_score)\n",
    "       # print roc_auc_label[i]\n",
    "    print(\"Finished evaluation, average auc: \", total_auc / float(label_length))\n",
    "    plotingAuc(roc_auc_label)\n",
    "    #plot_auc(total_score)\n",
    "    print label_map"
   ]
  },
  {
   "cell_type": "markdown",
   "metadata": {},
   "source": [
    "## Visualizing training with Jupyter notebook\n",
    "If you're using Jupyter notebook, you can also draw the training curves using popular plotting tools (e.g. matplotlib) and can display the plots inline.\n",
    "\n",
    "First, retrieve the summaries as instructed in Retrieve Summary. The retrieved summary is a list of tuples. Each tuple is a recorded event in format (iteration count, recorded value, timestamp). You can convert it to numpy array or dataframe to plot it"
   ]
  },
  {
   "cell_type": "code",
   "execution_count": 12,
   "metadata": {},
   "outputs": [],
   "source": [
    "random.seed(1234)\n",
    "batch_size = 1024 # int(sys.argv[1])\n",
    "num_epoch = 15 # int(sys.argv[2])"
   ]
  },
  {
   "cell_type": "markdown",
   "metadata": {},
   "source": [
    "### Set the path for  pre-trained model and Chest X-ray images "
   ]
  },
  {
   "cell_type": "code",
   "execution_count": 13,
   "metadata": {},
   "outputs": [],
   "source": [
    "model_path =\"hdfs:///path_to_your_saved_pre-trained model\" #EX: hdfs:///user/xray/analytics-zoo_resnet-50_imagenet_0.1.0.model \n",
    "data_path = \"hdfs:///path_to_your_saved_imageDF\" #EX: hdfs:///user/xray/train_test_splitDF "
   ]
  },
  {
   "cell_type": "markdown",
   "metadata": {},
   "source": [
    "### Dump or Save your trained model in the form of bigdl file and variable binary file"
   ]
  },
  {
   "cell_type": "markdown",
   "metadata": {},
   "source": [
    "Basically, we can save these files either in HDFS or in the local file system. In our case, we have maintained to store data in HDFS."
   ]
  },
  {
   "cell_type": "raw",
   "metadata": {},
   "source": [
    "save_path = \"hdfs:///path_to_save_model\" #EX: hdfs:///user/xray/save_model"
   ]
  },
  {
   "cell_type": "markdown",
   "metadata": {},
   "source": [
    "### Set the number of classes "
   ]
  },
  {
   "cell_type": "code",
   "execution_count": 14,
   "metadata": {},
   "outputs": [],
   "source": [
    "label_length = 14"
   ]
  },
  {
   "cell_type": "markdown",
   "metadata": {},
   "source": [
    "### Initiate Spark session "
   ]
  },
  {
   "cell_type": "code",
   "execution_count": 15,
   "metadata": {},
   "outputs": [
    {
     "name": "stdout",
     "output_type": "stream",
     "text": [
      "yarn\n"
     ]
    }
   ],
   "source": [
    "sparkConf = create_spark_conf().setAppName(\"test_dell_x_ray\")\n",
    "sc = init_nncontext(sparkConf)\n",
    "spark = SparkSession.builder.config(conf=sparkConf).getOrCreate()\n",
    "print(sc.master)"
   ]
  },
  {
   "cell_type": "markdown",
   "metadata": {},
   "source": [
    "### Call the defined pre-trained model function "
   ]
  },
  {
   "cell_type": "code",
   "execution_count": 16,
   "metadata": {},
   "outputs": [
    {
     "name": "stdout",
     "output_type": "stream",
     "text": [
      "('num of model layers: ', 227)\n",
      "creating: createZooKerasInput\n",
      "creating: createZooKerasGlobalAveragePooling2D\n",
      "creating: createZooKerasDropout\n",
      "creating: createL2Regularizer\n",
      "creating: createL2Regularizer\n",
      "creating: createZooKerasDense\n",
      "creating: createZooKerasModel\n"
     ]
    }
   ],
   "source": [
    "xray_model = get_resnet_model(model_path, label_length)"
   ]
  },
  {
   "cell_type": "markdown",
   "metadata": {},
   "source": [
    "### Load the Chest X-ray images "
   ]
  },
  {
   "cell_type": "code",
   "execution_count": 17,
   "metadata": {},
   "outputs": [],
   "source": [
    "train_df = spark.read.load(data_path + '/trainingDF')\n",
    "test_df = spark.read.load(data_path + '/testDF')"
   ]
  },
  {
   "cell_type": "markdown",
   "metadata": {},
   "source": [
    "### Combine both dataframes using Spark Transformation"
   ]
  },
  {
   "cell_type": "code",
   "execution_count": 18,
   "metadata": {},
   "outputs": [],
   "source": [
    "totalDF = train_df.union(test_df)"
   ]
  },
  {
   "cell_type": "markdown",
   "metadata": {},
   "source": [
    "### Split the SQL spark dataframe dataset into train and validation using RandomSplit"
   ]
  },
  {
   "cell_type": "code",
   "execution_count": 19,
   "metadata": {},
   "outputs": [
    {
     "name": "stdout",
     "output_type": "stream",
     "text": [
      "('number of training images: ', 78488)\n",
      "('number of validation images: ', 33632)\n"
     ]
    }
   ],
   "source": [
    "(trainingDF, validationDF) = totalDF.randomSplit([0.7, 0.3])\n",
    "trainingCount = trainingDF.count()\n",
    "print(\"number of training images: \", trainingCount)\n",
    "print(\"number of validation images: \", validationDF.count())"
   ]
  },
  {
   "cell_type": "markdown",
   "metadata": {},
   "source": [
    "### Pre-process the images (dataset)"
   ]
  },
  {
   "cell_type": "code",
   "execution_count": 20,
   "metadata": {},
   "outputs": [
    {
     "name": "stdout",
     "output_type": "stream",
     "text": [
      "creating: createRowToImageFeature\n",
      "creating: createImageCenterCrop\n",
      "creating: createImageHFlip\n",
      "creating: createImageRandomPreprocessing\n",
      "creating: createImageBrightness\n",
      "creating: createImageRandomPreprocessing\n",
      "creating: createImageChannelNormalize\n",
      "creating: createImageMatToTensor\n",
      "creating: createImageFeatureToTensor\n",
      "creating: createChainedPreprocessing\n"
     ]
    }
   ],
   "source": [
    "transformer = ChainedPreprocessing(\n",
    "            [RowToImageFeature(), ImageCenterCrop(224, 224), ImageRandomPreprocessing(ImageHFlip(), 0.5),\n",
    "             ImageRandomPreprocessing(ImageBrightness(0.0, 32.0), 0.5),\n",
    "             ImageChannelNormalize(123.68, 116.779, 103.939), ImageMatToTensor(), ImageFeatureToTensor()])"
   ]
  },
  {
   "cell_type": "markdown",
   "metadata": {},
   "source": [
    "### Save training and validation summary "
   ]
  },
  {
   "cell_type": "code",
   "execution_count": 21,
   "metadata": {},
   "outputs": [
    {
     "name": "stdout",
     "output_type": "stream",
     "text": [
      "creating: createTrainSummary\n",
      "creating: createValidationSummary\n",
      "creating: createSeveralIteration\n",
      "creating: createSeveralIteration\n"
     ]
    },
    {
     "data": {
      "text/plain": [
       "JavaObject id=o501"
      ]
     },
     "execution_count": 21,
     "metadata": {},
     "output_type": "execute_result"
    }
   ],
   "source": [
    "train_summary = TrainSummary(log_dir=\"/path_to_your_logDirectory\", app_name=\"test_dell_x_ray\")\n",
    "val_summary = ValidationSummary(log_dir=\"/path_to_your_logDirectory\", app_name=\"test_dell_x_ray\")\n",
    "train_summary.set_summary_trigger(\"LearningRate\", SeveralIteration(50))\n",
    "train_summary.set_summary_trigger(\"Loss\", SeveralIteration(50))"
   ]
  },
  {
   "cell_type": "markdown",
   "metadata": {},
   "source": [
    "### Call the optimizer function, Here we are using Adam "
   ]
  },
  {
   "cell_type": "code",
   "execution_count": 22,
   "metadata": {},
   "outputs": [
    {
     "name": "stdout",
     "output_type": "stream",
     "text": [
      "('peak lr is: ', 0.0001)\n",
      "creating: createSequentialSchedule\n",
      "creating: createWarmup\n",
      "creating: createPlateau\n",
      "creating: createZooKerasAdam\n"
     ]
    }
   ],
   "source": [
    "optim_method = get_adam_optimMethod(num_epoch, trainingCount, batch_size)"
   ]
  },
  {
   "cell_type": "markdown",
   "metadata": {},
   "source": [
    "### Set the classifier with all the necessary parameters such as loss function, batchsize, num of epochs and so on"
   ]
  },
  {
   "cell_type": "code",
   "execution_count": 23,
   "metadata": {},
   "outputs": [
    {
     "name": "stdout",
     "output_type": "stream",
     "text": [
      "creating: createZooKerasBinaryCrossEntropy\n",
      "creating: createSeqToTensor\n",
      "creating: createFeatureLabelPreprocessing\n",
      "creating: createNNEstimator\n",
      "creating: createEveryEpoch\n",
      "creating: createAUC\n"
     ]
    }
   ],
   "source": [
    "classifier = NNEstimator(xray_model, BinaryCrossEntropy(), transformer) \\\n",
    "            .setBatchSize(batch_size) \\\n",
    "            .setMaxEpoch(num_epoch) \\\n",
    "            .setFeaturesCol(\"image\") \\\n",
    "            .setCachingSample(False) \\\n",
    "            .setValidation(EveryEpoch(), validationDF, [AUC()], batch_size) \\\n",
    "            .setTrainSummary(train_summary) \\\n",
    "            .setValidationSummary(val_summary) \\\n",
    "            .setOptimMethod(optim_method)"
   ]
  },
  {
   "cell_type": "markdown",
   "metadata": {},
   "source": [
    "### Train the model using fit and print the total time taken for model training"
   ]
  },
  {
   "cell_type": "code",
   "execution_count": 24,
   "metadata": {},
   "outputs": [
    {
     "name": "stdout",
     "output_type": "stream",
     "text": [
      "creating: createToTuple\n",
      "creating: createChainedPreprocessing\n",
      "('Finished training, took: ', 21087.46742081642)\n"
     ]
    }
   ],
   "source": [
    "start = time.time()\n",
    "nnModel = classifier.fit(trainingDF)\n",
    "print(\"Finished training, took: \", time.time() - start)"
   ]
  },
  {
   "cell_type": "markdown",
   "metadata": {},
   "source": [
    "### Evaluate the model and plot AUC accuracy for Training Data"
   ]
  },
  {
   "cell_type": "code",
   "execution_count": 25,
   "metadata": {},
   "outputs": [
    {
     "name": "stdout",
     "output_type": "stream",
     "text": [
      "evaluating on training data: \n",
      "roc score for                Atelectasis  is:  0.822318513097      \n",
      "roc score for               Cardiomegaly  is:  0.908873911376      \n",
      "roc score for                   Effusion  is:  0.883230580296      \n",
      "roc score for               Infiltration  is:  0.716474950438      \n",
      "roc score for                       Mass  is:  0.84327357477       \n",
      "roc score for                     Nodule  is:  0.781149133425      \n",
      "roc score for                  Pneumonia  is:  0.763532229854      \n",
      "roc score for               Pneumothorax  is:  0.897633437884      \n",
      "roc score for              Consolidation  is:  0.80703291163       \n",
      "roc score for                      Edema  is:  0.901970226143      \n",
      "roc score for                  Emphysema  is:  0.906196925853      \n",
      "roc score for                   Fibrosis  is:  0.7991236446        \n",
      "roc score for         Pleural_Thickening  is:  0.796678334889      \n",
      "roc score for                     Hernia  is:  0.789612890398      \n",
      "('Finished evaluation, average auc: ', 0.8297929474752664)\n",
      " Plotting Area Under Curve for 14 classes \n"
     ]
    },
    {
     "data": {
      "image/png": "[encoded data removed]",
      "text/plain": [
       "<Figure size 720x360 with 1 Axes>"
      ]
     },
     "metadata": {
      "needs_background": "light"
     },
     "output_type": "display_data"
    },
    {
     "name": "stdout",
     "output_type": "stream",
     "text": [
      "{'Effusion': 2, 'Pneumothorax': 7, 'Edema': 9, 'Cardiomegaly': 1, 'Pleural_Thickening': 12, 'Atelectasis': 0, 'Consolidation': 8, 'Emphysema': 10, 'Pneumonia': 6, 'Nodule': 5, 'Mass': 4, 'Infiltration': 3, 'Hernia': 13, 'Fibrosis': 11}\n"
     ]
    }
   ],
   "source": [
    "print(\"evaluating on training data: \")\n",
    "evaluate(trainingDF)\n",
    "SQLContext(sc).clearCache()"
   ]
  },
  {
   "cell_type": "markdown",
   "metadata": {},
   "source": [
    "### Evaluate the model and plot AUC accuracy for Validation Data"
   ]
  },
  {
   "cell_type": "code",
   "execution_count": 26,
   "metadata": {},
   "outputs": [
    {
     "name": "stdout",
     "output_type": "stream",
     "text": [
      "\n",
      "evaluating on validation data: \n",
      "roc score for                Atelectasis  is:  0.789614683078      \n",
      "roc score for               Cardiomegaly  is:  0.873129705242      \n",
      "roc score for                   Effusion  is:  0.86535223927       \n",
      "roc score for               Infiltration  is:  0.689784217336      \n",
      "roc score for                       Mass  is:  0.807491318964      \n",
      "roc score for                     Nodule  is:  0.729128038656      \n",
      "roc score for                  Pneumonia  is:  0.731538559827      \n",
      "roc score for               Pneumothorax  is:  0.870473697194      \n",
      "roc score for              Consolidation  is:  0.794522984466      \n",
      "roc score for                      Edema  is:  0.88673157811       \n",
      "roc score for                  Emphysema  is:  0.887188623658      \n",
      "roc score for                   Fibrosis  is:  0.76269875379       \n",
      "roc score for         Pleural_Thickening  is:  0.768316659619      \n",
      "roc score for                     Hernia  is:  0.759881110551      \n",
      "('Finished evaluation, average auc: ', 0.8011322978400193)\n",
      " Plotting Area Under Curve for 14 classes \n"
     ]
    },
    {
     "data": {
      "image/png": "[encoded data removed]",
      "text/plain": [
       "<Figure size 720x360 with 1 Axes>"
      ]
     },
     "metadata": {
      "needs_background": "light"
     },
     "output_type": "display_data"
    },
    {
     "name": "stdout",
     "output_type": "stream",
     "text": [
      "{'Effusion': 2, 'Pneumothorax': 7, 'Edema': 9, 'Cardiomegaly': 1, 'Pleural_Thickening': 12, 'Atelectasis': 0, 'Consolidation': 8, 'Emphysema': 10, 'Pneumonia': 6, 'Nodule': 5, 'Mass': 4, 'Infiltration': 3, 'Hernia': 13, 'Fibrosis': 11}\n"
     ]
    }
   ],
   "source": [
    "print(\"\\nevaluating on validation data: \")\n",
    "evaluate(validationDF)"
   ]
  },
  {
   "cell_type": "markdown",
   "metadata": {},
   "source": [
    "### Loss function Graph "
   ]
  },
  {
   "cell_type": "code",
   "execution_count": 27,
   "metadata": {},
   "outputs": [
    {
     "name": "stdout",
     "output_type": "stream",
     "text": [
      "Populating the interactive namespace from numpy and matplotlib\n"
     ]
    },
    {
     "name": "stderr",
     "output_type": "stream",
     "text": [
      "/usr/lib/python2.7/site-packages/IPython/core/magics/pylab.py:161: UserWarning: pylab import has clobbered these variables: ['plt']\n",
      "`%matplotlib` prevents importing * from pylab and numpy\n",
      "  \"\\n`%matplotlib` prevents importing * from pylab and numpy\"\n"
     ]
    },
    {
     "data": {
      "image/png": "[encoded data removed]",
      "text/plain": [
       "<Figure size 432x288 with 1 Axes>"
      ]
     },
     "metadata": {
      "needs_background": "light"
     },
     "output_type": "display_data"
    }
   ],
   "source": [
    "import matplotlib as plt\n",
    "import numpy as np \n",
    "\n",
    "#pylab\n",
    "%matplotlib notebook\n",
    "%pylab inline \n",
    "#import matplotlib.pyplot as plt \n",
    "pylab.figure()\n",
    "\n",
    "#retrieve train and validation summary object and read the loss data into ndarray's. \n",
    "loss = np.array(train_summary.read_scalar(\"Loss\"))\n",
    "\n",
    "plt.plot(loss[:,0],loss[:,1],label='train loss')\n",
    "#plt.plot(val_loss[:,0],val_loss[:,1],label='val loss') #,color='green')\n",
    "#plt.scatter(val_loss[:,0],val_loss[:,1],color='green')\n",
    "plt.legend();"
   ]
  },
  {
   "cell_type": "markdown",
   "metadata": {},
   "source": [
    "## Using Tensorboard "
   ]
  },
  {
   "cell_type": "markdown",
   "metadata": {},
   "source": [
    "We can also use Tensorboard to visualize the model during training in the form of graphs for Learning Rate, Loss Function, Throughput and so on.\n",
    "Please use the below command to run the tensorboard for detailed visualization."
   ]
  },
  {
   "cell_type": "markdown",
   "metadata": {},
   "source": [
    "The port number --port 8081 and 8082 from the below command can be modified according to the ports available on your network."
   ]
  },
  {
   "cell_type": "raw",
   "metadata": {},
   "source": [
    "!tensorboard --logdir = /path_to_your_logDirectory/train --port 8081\n",
    "!tensorboard --logdir = /path_to_your_logDirectory/validation --port 8082"
   ]
  }
 ],
 "metadata": {
  "kernelspec": {
   "display_name": "Python 2",
   "language": "python",
   "name": "python2"
  },
  "language_info": {
   "codemirror_mode": {
    "name": "ipython",
    "version": 2
   },
   "file_extension": ".py",
   "mimetype": "text/x-python",
   "name": "python",
   "nbconvert_exporter": "python",
   "pygments_lexer": "ipython2",
   "version": "2.7.5"
  }
 },
 "nbformat": 4,
 "nbformat_minor": 2
}
